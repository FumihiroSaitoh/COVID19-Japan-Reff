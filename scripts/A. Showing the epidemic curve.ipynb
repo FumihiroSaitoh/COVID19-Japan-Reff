{
 "cells": [
  {
   "cell_type": "code",
   "execution_count": 1,
   "metadata": {},
   "outputs": [
    {
     "name": "stdout",
     "output_type": "stream",
     "text": [
      "[1] \"R version 4.0.0 Patched (2020-05-24 r78561)\"\n"
     ]
    }
   ],
   "source": [
    "libraries = c(\"dplyr\", \"ggplot2\")\n",
    "for(x in libraries) { library(x,character.only=TRUE,warn.conflicts=FALSE,quietly=TRUE) }\n",
    "\n",
    "theme_set(theme_minimal(base_size=12)) \n",
    "\n",
    "print(R.Version()$version.string)"
   ]
  },
  {
   "cell_type": "markdown",
   "metadata": {},
   "source": [
    "# Loading the dataset"
   ]
  },
  {
   "cell_type": "code",
   "execution_count": 2,
   "metadata": {},
   "outputs": [
    {
     "data": {
      "text/html": [
       "<table>\n",
       "<caption>A data.frame: 15404 × 5</caption>\n",
       "<thead>\n",
       "\t<tr><th scope=col>exp_type</th><th scope=col>onset</th><th scope=col>confirmed</th><th scope=col>reported</th><th scope=col>is_asymptomatic</th></tr>\n",
       "\t<tr><th scope=col>&lt;chr&gt;</th><th scope=col>&lt;date&gt;</th><th scope=col>&lt;date&gt;</th><th scope=col>&lt;date&gt;</th><th scope=col>&lt;int&gt;</th></tr>\n",
       "</thead>\n",
       "<tbody>\n",
       "\t<tr><td>imported</td><td>2020-01-03</td><td>NA</td><td>NA</td><td>0</td></tr>\n",
       "\t<tr><td>imported</td><td>2020-01-14</td><td>NA</td><td>NA</td><td>0</td></tr>\n",
       "\t<tr><td>imported</td><td>2020-01-21</td><td>NA</td><td>NA</td><td>0</td></tr>\n",
       "\t<tr><td>imported</td><td>2020-01-23</td><td>NA</td><td>NA</td><td>0</td></tr>\n",
       "\t<tr><td>imported</td><td>2020-01-22</td><td>NA</td><td>NA</td><td>0</td></tr>\n",
       "\t<tr><td>imported</td><td>2020-01-26</td><td>NA</td><td>NA</td><td>0</td></tr>\n",
       "\t<tr><td>domestic</td><td>2020-01-14</td><td>NA</td><td>NA</td><td>0</td></tr>\n",
       "\t<tr><td>domestic</td><td>2020-01-20</td><td>NA</td><td>NA</td><td>0</td></tr>\n",
       "\t<tr><td>domestic</td><td>2020-01-23</td><td>NA</td><td>NA</td><td>0</td></tr>\n",
       "\t<tr><td>domestic</td><td>2020-01-25</td><td>NA</td><td>NA</td><td>0</td></tr>\n",
       "\t<tr><td>imported</td><td>2020-01-24</td><td>NA</td><td>NA</td><td>0</td></tr>\n",
       "\t<tr><td>domestic</td><td>2020-01-20</td><td>NA</td><td>NA</td><td>0</td></tr>\n",
       "\t<tr><td>imported</td><td>2020-01-30</td><td>NA</td><td>NA</td><td>0</td></tr>\n",
       "\t<tr><td>imported</td><td>2020-01-24</td><td>NA</td><td>NA</td><td>0</td></tr>\n",
       "\t<tr><td>domestic</td><td>2020-01-24</td><td>NA</td><td>NA</td><td>0</td></tr>\n",
       "\t<tr><td>domestic</td><td>2020-02-08</td><td>NA</td><td>NA</td><td>0</td></tr>\n",
       "\t<tr><td>domestic</td><td>2020-02-02</td><td>NA</td><td>NA</td><td>0</td></tr>\n",
       "\t<tr><td>domestic</td><td>2020-01-22</td><td>NA</td><td>NA</td><td>0</td></tr>\n",
       "\t<tr><td>domestic</td><td>2020-01-29</td><td>NA</td><td>NA</td><td>0</td></tr>\n",
       "\t<tr><td>domestic</td><td>2020-01-31</td><td>NA</td><td>NA</td><td>0</td></tr>\n",
       "\t<tr><td>imported</td><td>2020-02-03</td><td>NA</td><td>NA</td><td>0</td></tr>\n",
       "\t<tr><td>domestic</td><td>2020-01-31</td><td>NA</td><td>NA</td><td>0</td></tr>\n",
       "\t<tr><td>domestic</td><td>2020-02-10</td><td>NA</td><td>NA</td><td>0</td></tr>\n",
       "\t<tr><td>domestic</td><td>2020-02-05</td><td>NA</td><td>NA</td><td>0</td></tr>\n",
       "\t<tr><td>domestic</td><td>2020-02-04</td><td>NA</td><td>NA</td><td>0</td></tr>\n",
       "\t<tr><td>domestic</td><td>2020-01-20</td><td>NA</td><td>NA</td><td>0</td></tr>\n",
       "\t<tr><td>domestic</td><td>2020-02-01</td><td>NA</td><td>NA</td><td>0</td></tr>\n",
       "\t<tr><td>imported</td><td>2020-02-13</td><td>NA</td><td>NA</td><td>0</td></tr>\n",
       "\t<tr><td>domestic</td><td>NA</td><td>2020-02-15</td><td>NA</td><td>1</td></tr>\n",
       "\t<tr><td>domestic</td><td>NA</td><td>2020-02-15</td><td>NA</td><td>1</td></tr>\n",
       "\t<tr><td>...</td><td>...</td><td>...</td><td>...</td><td>...</td></tr>\n",
       "\t<tr><td>domestic</td><td>2020-05-06</td><td>NA</td><td>NA</td><td>0</td></tr>\n",
       "\t<tr><td>domestic</td><td>NA</td><td>2020-05-09</td><td>NA</td><td>1</td></tr>\n",
       "\t<tr><td>domestic</td><td>2020-04-29</td><td>NA</td><td>NA</td><td>0</td></tr>\n",
       "\t<tr><td>domestic</td><td>2020-05-06</td><td>NA</td><td>NA</td><td>0</td></tr>\n",
       "\t<tr><td>domestic</td><td>2020-04-26</td><td>NA</td><td>NA</td><td>0</td></tr>\n",
       "\t<tr><td>domestic</td><td>2020-05-06</td><td>NA</td><td>NA</td><td>0</td></tr>\n",
       "\t<tr><td>domestic</td><td>2020-05-03</td><td>NA</td><td>NA</td><td>0</td></tr>\n",
       "\t<tr><td>domestic</td><td>2020-05-04</td><td>NA</td><td>NA</td><td>0</td></tr>\n",
       "\t<tr><td>domestic</td><td>2020-04-30</td><td>NA</td><td>NA</td><td>0</td></tr>\n",
       "\t<tr><td>domestic</td><td>2020-05-07</td><td>NA</td><td>NA</td><td>0</td></tr>\n",
       "\t<tr><td>domestic</td><td>2020-05-02</td><td>NA</td><td>NA</td><td>0</td></tr>\n",
       "\t<tr><td>domestic</td><td>2020-04-26</td><td>NA</td><td>NA</td><td>0</td></tr>\n",
       "\t<tr><td>domestic</td><td>2020-04-24</td><td>NA</td><td>NA</td><td>0</td></tr>\n",
       "\t<tr><td>domestic</td><td>2020-04-20</td><td>NA</td><td>NA</td><td>0</td></tr>\n",
       "\t<tr><td>domestic</td><td>2020-05-06</td><td>NA</td><td>NA</td><td>0</td></tr>\n",
       "\t<tr><td>domestic</td><td>NA</td><td>2020-05-09</td><td>NA</td><td>1</td></tr>\n",
       "\t<tr><td>domestic</td><td>2020-04-18</td><td>NA</td><td>NA</td><td>0</td></tr>\n",
       "\t<tr><td>domestic</td><td>2020-05-02</td><td>NA</td><td>NA</td><td>0</td></tr>\n",
       "\t<tr><td>domestic</td><td>2020-04-28</td><td>NA</td><td>NA</td><td>0</td></tr>\n",
       "\t<tr><td>domestic</td><td>2020-05-02</td><td>NA</td><td>NA</td><td>0</td></tr>\n",
       "\t<tr><td>domestic</td><td>2020-05-06</td><td>NA</td><td>NA</td><td>0</td></tr>\n",
       "\t<tr><td>domestic</td><td>2020-04-26</td><td>NA</td><td>NA</td><td>0</td></tr>\n",
       "\t<tr><td>domestic</td><td>2020-05-01</td><td>NA</td><td>NA</td><td>0</td></tr>\n",
       "\t<tr><td>domestic</td><td>2020-05-06</td><td>NA</td><td>NA</td><td>0</td></tr>\n",
       "\t<tr><td>domestic</td><td>2020-05-03</td><td>NA</td><td>NA</td><td>0</td></tr>\n",
       "\t<tr><td>domestic</td><td>2020-05-05</td><td>NA</td><td>NA</td><td>0</td></tr>\n",
       "\t<tr><td>domestic</td><td>2020-04-30</td><td>NA</td><td>NA</td><td>0</td></tr>\n",
       "\t<tr><td>domestic</td><td>2020-05-06</td><td>NA</td><td>NA</td><td>0</td></tr>\n",
       "\t<tr><td>domestic</td><td>NA</td><td>2020-05-09</td><td>NA</td><td>1</td></tr>\n",
       "\t<tr><td>domestic</td><td>NA</td><td>2020-05-09</td><td>NA</td><td>1</td></tr>\n",
       "</tbody>\n",
       "</table>\n"
      ],
      "text/latex": [
       "A data.frame: 15404 × 5\n",
       "\\begin{tabular}{lllll}\n",
       " exp\\_type & onset & confirmed & reported & is\\_asymptomatic\\\\\n",
       " <chr> & <date> & <date> & <date> & <int>\\\\\n",
       "\\hline\n",
       "\t imported & 2020-01-03 & NA & NA & 0\\\\\n",
       "\t imported & 2020-01-14 & NA & NA & 0\\\\\n",
       "\t imported & 2020-01-21 & NA & NA & 0\\\\\n",
       "\t imported & 2020-01-23 & NA & NA & 0\\\\\n",
       "\t imported & 2020-01-22 & NA & NA & 0\\\\\n",
       "\t imported & 2020-01-26 & NA & NA & 0\\\\\n",
       "\t domestic & 2020-01-14 & NA & NA & 0\\\\\n",
       "\t domestic & 2020-01-20 & NA & NA & 0\\\\\n",
       "\t domestic & 2020-01-23 & NA & NA & 0\\\\\n",
       "\t domestic & 2020-01-25 & NA & NA & 0\\\\\n",
       "\t imported & 2020-01-24 & NA & NA & 0\\\\\n",
       "\t domestic & 2020-01-20 & NA & NA & 0\\\\\n",
       "\t imported & 2020-01-30 & NA & NA & 0\\\\\n",
       "\t imported & 2020-01-24 & NA & NA & 0\\\\\n",
       "\t domestic & 2020-01-24 & NA & NA & 0\\\\\n",
       "\t domestic & 2020-02-08 & NA & NA & 0\\\\\n",
       "\t domestic & 2020-02-02 & NA & NA & 0\\\\\n",
       "\t domestic & 2020-01-22 & NA & NA & 0\\\\\n",
       "\t domestic & 2020-01-29 & NA & NA & 0\\\\\n",
       "\t domestic & 2020-01-31 & NA & NA & 0\\\\\n",
       "\t imported & 2020-02-03 & NA & NA & 0\\\\\n",
       "\t domestic & 2020-01-31 & NA & NA & 0\\\\\n",
       "\t domestic & 2020-02-10 & NA & NA & 0\\\\\n",
       "\t domestic & 2020-02-05 & NA & NA & 0\\\\\n",
       "\t domestic & 2020-02-04 & NA & NA & 0\\\\\n",
       "\t domestic & 2020-01-20 & NA & NA & 0\\\\\n",
       "\t domestic & 2020-02-01 & NA & NA & 0\\\\\n",
       "\t imported & 2020-02-13 & NA & NA & 0\\\\\n",
       "\t domestic & NA & 2020-02-15 & NA & 1\\\\\n",
       "\t domestic & NA & 2020-02-15 & NA & 1\\\\\n",
       "\t ... & ... & ... & ... & ...\\\\\n",
       "\t domestic & 2020-05-06 & NA & NA & 0\\\\\n",
       "\t domestic & NA & 2020-05-09 & NA & 1\\\\\n",
       "\t domestic & 2020-04-29 & NA & NA & 0\\\\\n",
       "\t domestic & 2020-05-06 & NA & NA & 0\\\\\n",
       "\t domestic & 2020-04-26 & NA & NA & 0\\\\\n",
       "\t domestic & 2020-05-06 & NA & NA & 0\\\\\n",
       "\t domestic & 2020-05-03 & NA & NA & 0\\\\\n",
       "\t domestic & 2020-05-04 & NA & NA & 0\\\\\n",
       "\t domestic & 2020-04-30 & NA & NA & 0\\\\\n",
       "\t domestic & 2020-05-07 & NA & NA & 0\\\\\n",
       "\t domestic & 2020-05-02 & NA & NA & 0\\\\\n",
       "\t domestic & 2020-04-26 & NA & NA & 0\\\\\n",
       "\t domestic & 2020-04-24 & NA & NA & 0\\\\\n",
       "\t domestic & 2020-04-20 & NA & NA & 0\\\\\n",
       "\t domestic & 2020-05-06 & NA & NA & 0\\\\\n",
       "\t domestic & NA & 2020-05-09 & NA & 1\\\\\n",
       "\t domestic & 2020-04-18 & NA & NA & 0\\\\\n",
       "\t domestic & 2020-05-02 & NA & NA & 0\\\\\n",
       "\t domestic & 2020-04-28 & NA & NA & 0\\\\\n",
       "\t domestic & 2020-05-02 & NA & NA & 0\\\\\n",
       "\t domestic & 2020-05-06 & NA & NA & 0\\\\\n",
       "\t domestic & 2020-04-26 & NA & NA & 0\\\\\n",
       "\t domestic & 2020-05-01 & NA & NA & 0\\\\\n",
       "\t domestic & 2020-05-06 & NA & NA & 0\\\\\n",
       "\t domestic & 2020-05-03 & NA & NA & 0\\\\\n",
       "\t domestic & 2020-05-05 & NA & NA & 0\\\\\n",
       "\t domestic & 2020-04-30 & NA & NA & 0\\\\\n",
       "\t domestic & 2020-05-06 & NA & NA & 0\\\\\n",
       "\t domestic & NA & 2020-05-09 & NA & 1\\\\\n",
       "\t domestic & NA & 2020-05-09 & NA & 1\\\\\n",
       "\\end{tabular}\n"
      ],
      "text/markdown": [
       "\n",
       "A data.frame: 15404 × 5\n",
       "\n",
       "| exp_type &lt;chr&gt; | onset &lt;date&gt; | confirmed &lt;date&gt; | reported &lt;date&gt; | is_asymptomatic &lt;int&gt; |\n",
       "|---|---|---|---|---|\n",
       "| imported | 2020-01-03 | NA | NA | 0 |\n",
       "| imported | 2020-01-14 | NA | NA | 0 |\n",
       "| imported | 2020-01-21 | NA | NA | 0 |\n",
       "| imported | 2020-01-23 | NA | NA | 0 |\n",
       "| imported | 2020-01-22 | NA | NA | 0 |\n",
       "| imported | 2020-01-26 | NA | NA | 0 |\n",
       "| domestic | 2020-01-14 | NA | NA | 0 |\n",
       "| domestic | 2020-01-20 | NA | NA | 0 |\n",
       "| domestic | 2020-01-23 | NA | NA | 0 |\n",
       "| domestic | 2020-01-25 | NA | NA | 0 |\n",
       "| imported | 2020-01-24 | NA | NA | 0 |\n",
       "| domestic | 2020-01-20 | NA | NA | 0 |\n",
       "| imported | 2020-01-30 | NA | NA | 0 |\n",
       "| imported | 2020-01-24 | NA | NA | 0 |\n",
       "| domestic | 2020-01-24 | NA | NA | 0 |\n",
       "| domestic | 2020-02-08 | NA | NA | 0 |\n",
       "| domestic | 2020-02-02 | NA | NA | 0 |\n",
       "| domestic | 2020-01-22 | NA | NA | 0 |\n",
       "| domestic | 2020-01-29 | NA | NA | 0 |\n",
       "| domestic | 2020-01-31 | NA | NA | 0 |\n",
       "| imported | 2020-02-03 | NA | NA | 0 |\n",
       "| domestic | 2020-01-31 | NA | NA | 0 |\n",
       "| domestic | 2020-02-10 | NA | NA | 0 |\n",
       "| domestic | 2020-02-05 | NA | NA | 0 |\n",
       "| domestic | 2020-02-04 | NA | NA | 0 |\n",
       "| domestic | 2020-01-20 | NA | NA | 0 |\n",
       "| domestic | 2020-02-01 | NA | NA | 0 |\n",
       "| imported | 2020-02-13 | NA | NA | 0 |\n",
       "| domestic | NA | 2020-02-15 | NA | 1 |\n",
       "| domestic | NA | 2020-02-15 | NA | 1 |\n",
       "| ... | ... | ... | ... | ... |\n",
       "| domestic | 2020-05-06 | NA | NA | 0 |\n",
       "| domestic | NA | 2020-05-09 | NA | 1 |\n",
       "| domestic | 2020-04-29 | NA | NA | 0 |\n",
       "| domestic | 2020-05-06 | NA | NA | 0 |\n",
       "| domestic | 2020-04-26 | NA | NA | 0 |\n",
       "| domestic | 2020-05-06 | NA | NA | 0 |\n",
       "| domestic | 2020-05-03 | NA | NA | 0 |\n",
       "| domestic | 2020-05-04 | NA | NA | 0 |\n",
       "| domestic | 2020-04-30 | NA | NA | 0 |\n",
       "| domestic | 2020-05-07 | NA | NA | 0 |\n",
       "| domestic | 2020-05-02 | NA | NA | 0 |\n",
       "| domestic | 2020-04-26 | NA | NA | 0 |\n",
       "| domestic | 2020-04-24 | NA | NA | 0 |\n",
       "| domestic | 2020-04-20 | NA | NA | 0 |\n",
       "| domestic | 2020-05-06 | NA | NA | 0 |\n",
       "| domestic | NA | 2020-05-09 | NA | 1 |\n",
       "| domestic | 2020-04-18 | NA | NA | 0 |\n",
       "| domestic | 2020-05-02 | NA | NA | 0 |\n",
       "| domestic | 2020-04-28 | NA | NA | 0 |\n",
       "| domestic | 2020-05-02 | NA | NA | 0 |\n",
       "| domestic | 2020-05-06 | NA | NA | 0 |\n",
       "| domestic | 2020-04-26 | NA | NA | 0 |\n",
       "| domestic | 2020-05-01 | NA | NA | 0 |\n",
       "| domestic | 2020-05-06 | NA | NA | 0 |\n",
       "| domestic | 2020-05-03 | NA | NA | 0 |\n",
       "| domestic | 2020-05-05 | NA | NA | 0 |\n",
       "| domestic | 2020-04-30 | NA | NA | 0 |\n",
       "| domestic | 2020-05-06 | NA | NA | 0 |\n",
       "| domestic | NA | 2020-05-09 | NA | 1 |\n",
       "| domestic | NA | 2020-05-09 | NA | 1 |\n",
       "\n"
      ],
      "text/plain": [
       "      exp_type onset      confirmed  reported is_asymptomatic\n",
       "1     imported 2020-01-03 <NA>       <NA>     0              \n",
       "2     imported 2020-01-14 <NA>       <NA>     0              \n",
       "3     imported 2020-01-21 <NA>       <NA>     0              \n",
       "4     imported 2020-01-23 <NA>       <NA>     0              \n",
       "5     imported 2020-01-22 <NA>       <NA>     0              \n",
       "6     imported 2020-01-26 <NA>       <NA>     0              \n",
       "7     domestic 2020-01-14 <NA>       <NA>     0              \n",
       "8     domestic 2020-01-20 <NA>       <NA>     0              \n",
       "9     domestic 2020-01-23 <NA>       <NA>     0              \n",
       "10    domestic 2020-01-25 <NA>       <NA>     0              \n",
       "11    imported 2020-01-24 <NA>       <NA>     0              \n",
       "12    domestic 2020-01-20 <NA>       <NA>     0              \n",
       "13    imported 2020-01-30 <NA>       <NA>     0              \n",
       "14    imported 2020-01-24 <NA>       <NA>     0              \n",
       "15    domestic 2020-01-24 <NA>       <NA>     0              \n",
       "16    domestic 2020-02-08 <NA>       <NA>     0              \n",
       "17    domestic 2020-02-02 <NA>       <NA>     0              \n",
       "18    domestic 2020-01-22 <NA>       <NA>     0              \n",
       "19    domestic 2020-01-29 <NA>       <NA>     0              \n",
       "20    domestic 2020-01-31 <NA>       <NA>     0              \n",
       "21    imported 2020-02-03 <NA>       <NA>     0              \n",
       "22    domestic 2020-01-31 <NA>       <NA>     0              \n",
       "23    domestic 2020-02-10 <NA>       <NA>     0              \n",
       "24    domestic 2020-02-05 <NA>       <NA>     0              \n",
       "25    domestic 2020-02-04 <NA>       <NA>     0              \n",
       "26    domestic 2020-01-20 <NA>       <NA>     0              \n",
       "27    domestic 2020-02-01 <NA>       <NA>     0              \n",
       "28    imported 2020-02-13 <NA>       <NA>     0              \n",
       "29    domestic <NA>       2020-02-15 <NA>     1              \n",
       "30    domestic <NA>       2020-02-15 <NA>     1              \n",
       "...   ...      ...        ...        ...      ...            \n",
       "15375 domestic 2020-05-06 <NA>       <NA>     0              \n",
       "15376 domestic <NA>       2020-05-09 <NA>     1              \n",
       "15377 domestic 2020-04-29 <NA>       <NA>     0              \n",
       "15378 domestic 2020-05-06 <NA>       <NA>     0              \n",
       "15379 domestic 2020-04-26 <NA>       <NA>     0              \n",
       "15380 domestic 2020-05-06 <NA>       <NA>     0              \n",
       "15381 domestic 2020-05-03 <NA>       <NA>     0              \n",
       "15382 domestic 2020-05-04 <NA>       <NA>     0              \n",
       "15383 domestic 2020-04-30 <NA>       <NA>     0              \n",
       "15384 domestic 2020-05-07 <NA>       <NA>     0              \n",
       "15385 domestic 2020-05-02 <NA>       <NA>     0              \n",
       "15386 domestic 2020-04-26 <NA>       <NA>     0              \n",
       "15387 domestic 2020-04-24 <NA>       <NA>     0              \n",
       "15388 domestic 2020-04-20 <NA>       <NA>     0              \n",
       "15389 domestic 2020-05-06 <NA>       <NA>     0              \n",
       "15390 domestic <NA>       2020-05-09 <NA>     1              \n",
       "15391 domestic 2020-04-18 <NA>       <NA>     0              \n",
       "15392 domestic 2020-05-02 <NA>       <NA>     0              \n",
       "15393 domestic 2020-04-28 <NA>       <NA>     0              \n",
       "15394 domestic 2020-05-02 <NA>       <NA>     0              \n",
       "15395 domestic 2020-05-06 <NA>       <NA>     0              \n",
       "15396 domestic 2020-04-26 <NA>       <NA>     0              \n",
       "15397 domestic 2020-05-01 <NA>       <NA>     0              \n",
       "15398 domestic 2020-05-06 <NA>       <NA>     0              \n",
       "15399 domestic 2020-05-03 <NA>       <NA>     0              \n",
       "15400 domestic 2020-05-05 <NA>       <NA>     0              \n",
       "15401 domestic 2020-04-30 <NA>       <NA>     0              \n",
       "15402 domestic 2020-05-06 <NA>       <NA>     0              \n",
       "15403 domestic <NA>       2020-05-09 <NA>     1              \n",
       "15404 domestic <NA>       2020-05-09 <NA>     1              "
      ]
     },
     "metadata": {},
     "output_type": "display_data"
    }
   ],
   "source": [
    "df = read.csv(\"../data/JapaneseDataCOVID19 (200510).csv\", encoding=\"UTF-8\") %>%\n",
    "    mutate(across(c(\"onset\",\"confirmed\",\"reported\"), ~as.Date(.)))\n",
    "df"
   ]
  },
  {
   "cell_type": "markdown",
   "metadata": {},
   "source": [
    "# Epidemic curve by illness onset"
   ]
  },
  {
   "cell_type": "code",
   "execution_count": 3,
   "metadata": {},
   "outputs": [
    {
     "name": "stdout",
     "output_type": "stream",
     "text": [
      "[1] \"Total number of cases with known date of illness onset: 12488\"\n"
     ]
    }
   ],
   "source": [
    "df %>% filter(!is.na(onset)) -> df_\n",
    "\n",
    "print(paste0(\"Total number of cases with known date of illness onset: \", nrow(df_)))"
   ]
  },
  {
   "cell_type": "code",
   "execution_count": 4,
   "metadata": {},
   "outputs": [
    {
     "name": "stderr",
     "output_type": "stream",
     "text": [
      "`summarise()` ungrouping output (override with `.groups` argument)\n",
      "\n"
     ]
    },
    {
     "data": {
      "image/png": "[encoded data removed]",
      "text/plain": [
       "plot without title"
      ]
     },
     "metadata": {
      "image/png": {
       "height": 300,
       "width": 600
      },
      "text/plain": {
       "height": 300,
       "width": 600
      }
     },
     "output_type": "display_data"
    }
   ],
   "source": [
    "ymax = max(df_ %>% mutate(count=1) %>% group_by(onset) %>% summarize(count=sum(count)) %>% .$count)\n",
    "\n",
    "options(repr.plot.width=10,repr.plot.height=5)\n",
    "ggplot() + \n",
    "    geom_bar(data = df_, aes(x=onset, fill=exp_type)) +\n",
    "    coord_cartesian(expand=0) +\n",
    "    scale_fill_brewer(palette = \"Paired\") +\n",
    "    ylim(c(0,ymax)) +\n",
    "    labs(x=\"Date of illness onset\", y=\"Confirmed cases\", fill = \"Type\", title=\"Cases with known date of illness onset\")"
   ]
  },
  {
   "cell_type": "markdown",
   "metadata": {},
   "source": [
    "# Cases with unknown date of illness onset"
   ]
  },
  {
   "cell_type": "code",
   "execution_count": 5,
   "metadata": {},
   "outputs": [
    {
     "name": "stdout",
     "output_type": "stream",
     "text": [
      "[1] \"Total number of cases with unknown date of illness onset: 2916\"\n"
     ]
    }
   ],
   "source": [
    "df %>% filter(is.na(onset)) -> df_\n",
    "\n",
    "print(paste0(\"Total number of cases with unknown date of illness onset: \", nrow(df_)))"
   ]
  },
  {
   "cell_type": "code",
   "execution_count": 6,
   "metadata": {},
   "outputs": [
    {
     "data": {
      "image/png": "[encoded data removed]",
      "text/plain": [
       "plot without title"
      ]
     },
     "metadata": {
      "image/png": {
       "height": 300,
       "width": 600
      },
      "text/plain": {
       "height": 300,
       "width": 600
      }
     },
     "output_type": "display_data"
    }
   ],
   "source": [
    "options(repr.plot.width=10,repr.plot.height=5)\n",
    "ggplot() + \n",
    "    geom_bar(data = df_ %>% mutate(known_event = if_else(is.na(confirmed), reported, confirmed)), \n",
    "                                   aes(x=known_event, fill=exp_type)) +\n",
    "    coord_cartesian(expand=0) +\n",
    "    scale_fill_brewer(palette = \"Paired\") +\n",
    "    ylim(c(0,ymax)) +\n",
    "    labs(x=\"Date of confirmation\",\n",
    "         y=\"Confirmed cases\", fill = \"Type\", \n",
    "         title=\"Cases with unknown date of illness onset\")"
   ]
  },
  {
   "cell_type": "code",
   "execution_count": null,
   "metadata": {},
   "outputs": [],
   "source": []
  }
 ],
 "metadata": {
  "kernelspec": {
   "display_name": "R",
   "language": "R",
   "name": "ir"
  },
  "language_info": {
   "codemirror_mode": "r",
   "file_extension": ".r",
   "mimetype": "text/x-r-source",
   "name": "R",
   "pygments_lexer": "r",
   "version": "4.0.0"
  }
 },
 "nbformat": 4,
 "nbformat_minor": 4
}
