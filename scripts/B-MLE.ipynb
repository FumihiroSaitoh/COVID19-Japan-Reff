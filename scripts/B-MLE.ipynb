{
 "cells": [
  {
   "cell_type": "code",
   "execution_count": 42,
   "metadata": {},
   "outputs": [
    {
     "data": {
      "text/html": [
       "'R version 3.6.2 (2019-12-12)'"
      ],
      "text/latex": [
       "'R version 3.6.2 (2019-12-12)'"
      ],
      "text/markdown": [
       "'R version 3.6.2 (2019-12-12)'"
      ],
      "text/plain": [
       "[1] \"R version 3.6.2 (2019-12-12)\""
      ]
     },
     "metadata": {},
     "output_type": "display_data"
    }
   ],
   "source": [
    "libraries = c(\"dplyr\",\"magrittr\",\"tidyr\",\"ggplot2\",\"readxl\",\"RColorBrewer\",\"zoo\",\"surveillance\")\n",
    "for(x in libraries) { library(x,character.only=TRUE,warn.conflicts=FALSE,quietly=TRUE) }\n",
    "\n",
    "'%&%' = function(x,y)paste0(x,y)\n",
    "\n",
    "theme_set(theme_bw())\n",
    "version$version.string"
   ]
  },
  {
   "cell_type": "markdown",
   "metadata": {},
   "source": [
    "## Revision note\n",
    "\n",
    "$\\circ$ typo in the function of generation interval (shape parameter) was corrected. (15 May 2020)\n",
    "\n",
    "$\\circ$ assuming the proportion of asymptomatic cases among all cases is constant, the asymptomatic cases were included in the estimation of $R_t$ including all cases with unknown illness onset date. (16 May 2020)"
   ]
  },
  {
   "cell_type": "markdown",
   "metadata": {},
   "source": [
    "## Data\n",
    "\n",
    "For the analysis, all confirmed COVID-19 cases who diagnosed in Japan were categorized into two types of case, imported case and domestic transmission case. The imported cases were defined as (i) those who have international travel history, (ii) who embarked on the “Diamond Princess” cruise ship as a passenger or member of disaster assistance team (i.e., DMAT or PMAT) within two weeks before the illness onset. \n",
    "\n",
    "For the estimation of $R_t$, the symptomatic confirmed cases in Japan with either or both the date of illness onset or the date of laboratory confirmation were used. Since the cases from the chartered flights have not involved in the domestic transmission dynamics in Japan, those cases were excluded in the analysis."
   ]
  },
  {
   "cell_type": "code",
   "execution_count": 43,
   "metadata": {},
   "outputs": [],
   "source": [
    "## The code was written by Sung-mok Jung\n",
    "\n",
    "## load the data\n",
    "datestar = as.Date(\"2020-05-10\")\n",
    "read.csv(\"../data/JapaneseDataCOVID19 (\"%&%format(datestar,\"%y%m%d\")%&%\").csv\") -> master_df \n",
    "colnames(master_df) <- c(\"type\",\"onset\", \"labconf\", \"reported\", \"asym\")\n",
    "master_df %<>% mutate(reported = as.Date(reported), labconf = as.Date(labconf), onset = as.Date(onset))\n",
    "\n",
    "\n",
    "## data for cases with the illness onset\n",
    "master_df %>% filter(!is.na(onset)) -> onset_Japan\n",
    "onset_Japan %>% group_by(onset) %>% count(type) %>% spread(type, n) %>% as.data.frame() -> master_dff\n",
    "master_dff[is.na(master_dff)] <- 0 \n",
    "master_dff$onset <- as.Date(master_dff$onset)\n",
    "    \n",
    "as.numeric(datestar-1-min(master_dff$onset)) -> time.diff\n",
    "ttime <- as.data.frame(c(0:time.diff))\n",
    "colnames(ttime) <- c('t')\n",
    "ttime %<>% mutate(onset = as.Date(min(onset_Japan$onset))+t)\n",
    "    \n",
    "merge(ttime, master_dff, by='onset', all.x=TRUE) -> master_df_final\n",
    "master_df_final[is.na(master_df_final)] <- 0\n",
    "    \n",
    "master_df_final %<>% mutate(total = domestic+imported) %>% dplyr::select(onset, domestic, imported, total) %>%\n",
    "rename(domestic_org = domestic, imported_org = imported)\n",
    "master_df_final -> entire_Japan\n",
    "\n",
    "\n",
    "## data for cases with the unknown illness onset (excluding the asymptomatic cases)\n",
    "master_df %>% filter(is.na(onset)) %>% filter(!is.na(labconf)) -> unknown_df\n",
    "unknown_df %>% group_by(labconf) %>% count(type) %>% spread(type, n) %>% as.data.frame() -> unknown_dff\n",
    "unknown_dff[is.na(unknown_dff)] <- 0 \n",
    "unknown_dff$labconf <- as.Date(unknown_dff$labconf)\n",
    "    \n",
    "as.numeric(datestar-1-min(unknown_dff$labconf)) -> time.diff\n",
    "ttime <- as.data.frame(c(0:time.diff))\n",
    "colnames(ttime) <- c('t')\n",
    "ttime %<>% mutate(labconf = as.Date(min(unknown_df$labconf))+t)\n",
    "merge(ttime, unknown_dff, by='labconf', all.x=TRUE) -> unknown_df_final\n",
    "unknown_df_final[is.na(unknown_df_final)] <- 0\n",
    "    \n",
    "unknown_df_final %<>% mutate(total=domestic+imported) %>% dplyr::select(labconf, domestic, imported, total)\n",
    "\n",
    "temp_start <- matrix(NA, ncol=1, nrow=as.numeric(min(unknown_df_final$labconf)-as.Date(\"2020-01-03\")))\n",
    "temp_start %<>% as.data.frame() %>% mutate(labconf = as.Date(as.Date(\"2020-01-03\"):(min(unknown_df_final$labconf)-1)),\n",
    "                                           domestic = 0, imported = 0, total= 0) %>% dplyr::select(-V1)\n",
    "rbind(temp_start, unknown_df_final) -> unknown_Japan"
   ]
  },
  {
   "cell_type": "markdown",
   "metadata": {},
   "source": [
    "## Distributions\n",
    "\n",
    "### 1. Generation time\n",
    "In the present analysis, serial interval was assumed to be identical with generation time and the value of doubly interval censored serial interval was also adopted from the previous study (Nishiura et, al., 2020, IJID). The Weibull distribution was fitted to 28 known infector-infectee pairs (mean = 4.8  days, standard deviation = 2.3 days).\n",
    "\n",
    "\n",
    "### 2. Incubation period\n",
    "We accounted for right truncation and modeled and used a lognormal distribution with parameters adopted from an earlier study (Linton et, al., 2020, JCM), and the estimated mean and SD were 5.6 days and 3.9 days, respectively.\n",
    "\n",
    "\n",
    "### 3. Right-truncated reporting delay\n",
    "We fitted the right-truncated time delay distribution from the illness onset to reporting to the Weibull distribution. We define the likelihood as follows: \n",
    "\n",
    "$$\n",
    "L(\\theta|S_k,O_k,T)=\\prod_{k=1}^{K}\\frac{h(S_k-O_k  |  \\theta)}{H(T-O_k  |  \\theta)}\n",
    "$$\n",
    "\n",
    "where $S_k$ and $O_k$ are the reporting date and the date of illness onset of case $k$, respectively and $T$ is the latest calendar day of observation. $h(∙)$ and $H(∙)$ are the probability density function (PDF) and cumulative density function (CDF) of Weibull distribution and $\\theta$ is the parameters of the distribution (i.e., shape and scale). The likelihood is maximized to determine the best-fit parameters used in the estimation of the reproduction number ($R_t$).\n"
   ]
  },
  {
   "cell_type": "code",
   "execution_count": 44,
   "metadata": {},
   "outputs": [],
   "source": [
    "## generation interval (Nishiura, et al, 2020)\n",
    "gi_fit = list(shape=2.305, scale=5.452)\n",
    "generation <- function(t){pweibull(t, shape = gi_fit$shape, scale = gi_fit$scale) - \n",
    "                          pweibull(t-1, shape = gi_fit$shape, scale = gi_fit$scale)}\n",
    "\n",
    "\n",
    "## incubation period (Linton et al, 2020)\n",
    "inc_fit = list(meanlog=1.519, sdlog=0.615)\n",
    "incubation <- function(t){plnorm(t, inc_fit$meanlog, inc_fit$sdlog) - plnorm(t-1, inc_fit$meanlog, inc_fit$sdlog)}\n",
    "\n",
    "\n",
    "## right-truncated reporting delay from illness onset to laboratory confirmation (estimated values using the MHLW data)\n",
    "rep_fit = list(shape=1.741, scale=8.573)\n",
    "onsettolabconf <- function(t){pweibull(t,  shape=rep_fit$shape, scale=rep_fit$scale) - \n",
    "                              pweibull(t-1, shape=rep_fit$shape, scale=rep_fit$scale)}"
   ]
  },
  {
   "cell_type": "markdown",
   "metadata": {},
   "source": [
    "## Back-projection from the laboratory confirmation date to illness onset\n",
    "\n",
    "To estimate the effective reproduction number ($R_t$) by time of infection, we back-projected the cases by time of infection.\n",
    "\n",
    "First, since there are some reported cases with unknown illness onset date, we back-projected those cases from laboratory confirmation date to illness onset date, using the PDF of time delay from the illness onset to laboratory confirmation. $R$ package ‘$surveillance$’ was used for the back-projection and within the package, the non-parametric back-projection algorithm based on Expectation-Maximization-Smoothing (EMS) algorithm was conducted."
   ]
  },
  {
   "cell_type": "code",
   "execution_count": 45,
   "metadata": {
    "scrolled": true
   },
   "outputs": [],
   "source": [
    "## adding extra 10 days for the stability of back-projection procedure\n",
    "temp_lastdays <- matrix(NA, ncol=1, nrow=10)\n",
    "temp_lastdays %<>% as.data.frame() %>% mutate(labconf=as.Date((max(unknown_Japan$labconf)+1):(max(unknown_Japan$labconf)+10)),\n",
    "                                              domestic=0, imported=0, total=0) %>% dplyr::select(-V1)\n",
    "rbind(unknown_Japan, temp_lastdays) -> unknown_Japan\n",
    "unknown_Japan %<>% mutate(time_onset = 1:nrow(unknown_Japan))\n",
    "\n",
    "\n",
    "## time delay from the illness onset to laboratory confirmation\n",
    "K = nrow(unknown_Japan)\n",
    "\n",
    "report_probability = pweibull(1:K, shape=rep_fit$shape, scale=rep_fit$scale) - pweibull(1:K-1, shape=rep_fit$shape, scale=rep_fit$scale)\n",
    "report_pmf = c(0,report_probability[1:21])\n",
    "\n",
    "\n",
    "## back-projecton of imported cases\n",
    "sts = new(\"sts\", epoch=unknown_Japan$time_onset, observed=unknown_Japan$imported)\n",
    "bpnp.control = list(k = 2, eps = rep(1e-4,2), iter.max=rep(1000,2), \n",
    "                    Tmark = nrow(sts), B = -1, alpha = 0.01, verbose = FALSE, lambda0 = NULL, eq3a.method = c(\"R\",\"C\"))\n",
    "sts_bp = backprojNP(sts, incu.pmf=report_pmf, control=modifyList(bpnp.control,list(eq3a.method=\"C\")))\n",
    "unknown_Japan$imported_backproj = upperbound(sts_bp)\n",
    "\n",
    "\n",
    "## back-projecton of domestic cases\n",
    "sts = new(\"sts\", epoch=unknown_Japan$time_onset, observed=unknown_Japan$domestic)\n",
    "bpnp.control = list(k = 2, eps = rep(1e-4,2), iter.max=rep(1000,2), \n",
    "                    Tmark = nrow(sts), B = -1, alpha = 0.01, verbose = FALSE, lambda0 = NULL, \n",
    "                    eq3a.method = c(\"R\",\"C\"))\n",
    "sts_bp = backprojNP(sts, incu.pmf=report_pmf, control=modifyList(bpnp.control,list(eq3a.method=\"C\")))\n",
    "unknown_Japan$domestic_backproj = upperbound(sts_bp)\n",
    "\n",
    "\n",
    "## normalizing the back-projected cases\n",
    "unknown_Japan$imported_backproj[unknown_Japan$imported_backproj<=0.01] <- 0\n",
    "unknown_Japan$domestic_backproj[unknown_Japan$domestic_backproj<=0.01] <- 0\n",
    "\n",
    "unknown_Japan %>% mutate(imported_normal = imported_backproj/sum(imported_backproj)*sum(imported),\n",
    "                         domestic_normal = domestic_backproj/sum(domestic_backproj)*sum(domestic),\n",
    "                         total = imported_normal+domestic_normal,\n",
    "                         time_onset=0:(nrow(unknown_Japan)-1)) %>%\n",
    "dplyr::select(time_onset, labconf, imported_normal, domestic_normal, total) %>% \n",
    "rename(t = time_onset, onset = labconf, imported_backproj=imported_normal, domestic_backproj = domestic_normal) -> dt.backproj_onset"
   ]
  },
  {
   "cell_type": "code",
   "execution_count": 46,
   "metadata": {},
   "outputs": [],
   "source": [
    "## merge the back-projected data with cases whose date of illness onset was available\n",
    "merge(entire_Japan, dt.backproj_onset, by=c('onset'), all.y=TRUE) %>% \n",
    "mutate(domestic = domestic_org+domestic_backproj, imported = imported_org + imported_backproj,\n",
    "       total = domestic + imported) %>% dplyr::select(onset, domestic, imported ,total) -> df_onset\n",
    "df_onset[is.na(df_onset)] <- 0"
   ]
  },
  {
   "cell_type": "markdown",
   "metadata": {},
   "source": [
    "## Back-projection from the illness onset to time of infection\n",
    "\n",
    "The epidemic curve by date of illness onset was back-projected once again to the epidemic curve by the time of infection, using the PDF of incubation and the same back-projection method was used."
   ]
  },
  {
   "cell_type": "code",
   "execution_count": 47,
   "metadata": {
    "scrolled": true
   },
   "outputs": [],
   "source": [
    "## adding extra 10 days for the stability of back-projection procedure\n",
    "temp_lastdays <- matrix(NA, ncol=1, nrow=10)\n",
    "temp_lastdays %<>% as.data.frame() %>% mutate(onset=as.Date((max(df_onset$onset)+1):(max(df_onset$onset)+10)),\n",
    "                                              domestic=0, imported=0, total=0) %>% dplyr::select(-V1)\n",
    "rbind(df_onset, temp_lastdays) -> df_onset\n",
    "df_onset %<>% mutate(time_onset = 1:nrow(df_onset))\n",
    "\n",
    "\n",
    "## incubation period\n",
    "K = nrow(df_onset)\n",
    "incubation_probability = plnorm(1:K, inc_fit$meanlog, inc_fit$sdlog) - plnorm(1:K-1, inc_fit$meanlog, inc_fit$sdlog)\n",
    "inc_pmf = c(0,incubation_probability[1:21])\n",
    "\n",
    "\n",
    "## back-projecton of imported cases\n",
    "sts = new(\"sts\", epoch=df_onset$time_onset, observed=df_onset$imported)\n",
    "bpnp.control = list(k = 2, eps = rep(1e-4,2), iter.max=rep(1000,2), \n",
    "                    Tmark = nrow(sts), B = -1, alpha = 0.01, verbose = FALSE, lambda0 = NULL, eq3a.method = c(\"R\",\"C\"))\n",
    "sts_bp = backprojNP(sts, incu.pmf=inc_pmf, control=modifyList(bpnp.control,list(eq3a.method=\"C\")))\n",
    "df_onset$imported_backproj = upperbound(sts_bp)\n",
    "\n",
    "\n",
    "## back-projecton of domestic cases\n",
    "sts = new(\"sts\", epoch=df_onset$time_onset, observed=df_onset$domestic)\n",
    "bpnp.control = list(k = 2, eps = rep(1e-4,2), iter.max=rep(1000,2), \n",
    "                    Tmark = nrow(sts), B = -1, alpha = 0.01, verbose = FALSE, lambda0 = NULL, \n",
    "                    eq3a.method = c(\"R\",\"C\"))\n",
    "sts_bp = backprojNP(sts, incu.pmf=inc_pmf, control=modifyList(bpnp.control,list(eq3a.method=\"C\")))\n",
    "df_onset$domestic_backproj = upperbound(sts_bp)\n",
    "\n",
    "\n",
    "## normalizing the back-projected cases\n",
    "df_onset$imported_backproj[df_onset$imported_backproj<=0.01] <- 0\n",
    "df_onset$domestic_backproj[df_onset$domestic_backproj<=0.01] <- 0\n",
    "\n",
    "df_onset %>% mutate(imported_normal = imported_backproj/sum(imported_backproj)*sum(imported),\n",
    "                    domestic_normal = domestic_backproj/sum(domestic_backproj)*sum(domestic),\n",
    "                    total = imported_normal+domestic_normal,\n",
    "                    time_onset=0:(nrow(df_onset)-1)) %>%\n",
    "dplyr::select(time_onset, onset, imported_normal, domestic_normal, total) %>% \n",
    "rename(t = time_onset, imported=imported_normal, domestic = domestic_normal) %>% filter(onset <= (datestar-1))-> dt.backproj"
   ]
  },
  {
   "cell_type": "markdown",
   "metadata": {},
   "source": [
    "## Renewal equation\n",
    "\n",
    "Let $C_{domestic} (t)$ be the number of newly domestic infected cases (i.e., defined as confirmed COVID-19 cases who were infected within the Japan) on day $t$. Then, the expected number of domestic infected case is modelled as:\n",
    "$$\n",
    "E(C_{domestic} (t))=R_t \\sum_{\\tau=1}^{t-1}C_{total} (t-\\tau)g(\\tau)  \\frac{F(T-t)}{F(T-t+\\tau)},\n",
    "$$\n",
    "where $C_{total} (t)$ is the number of total infected COVID-19 cases (i.e., sum of domestic infections and imported infections) on day $t$, $R_t$ is the reproduction number on day $t$ and $g(∙)$ is the PDF of generation interval distribution. In addition, to account for right-censoring, i.e., cases that have not yet been reported but already infected, $F(∙)$, the CDF of time delay from infection to reporting (i.e., the convolution of PDF of incubation period and PDF of right-truncated reporting delay from the illness onset to reporting) was considered. \n",
    "\n",
    "To estimate parameters governing $C_{total} (t-\\tau)g(\\tau)\\frac{F(T-t)}{F(T-t+\\tau)}$, we assumed that $C_{domestic} (t)$ follows a Poisson distribution and we arrived at the likelihood function of the form:\n",
    "$$\n",
    "L(R_t;C_{domestic} (t))= \\prod_{t=1}^{T}\\frac{\\exp⁡(-E(C_{domestic} (t)) E(C_{domestic}  (t))^{C_{domestic}(t)}}{C_{domestic}  (t)!}.\n",
    "$$\n",
    "\n",
    "The 95% confidence intervals of each estimates were derived using the profile likelihood."
   ]
  },
  {
   "cell_type": "code",
   "execution_count": 48,
   "metadata": {},
   "outputs": [],
   "source": [
    "today = as.numeric(datestar-as.Date(min(dt.backproj$onset)))\n",
    "\n",
    "## start estimation from 1 Feb 2020, as there is a huge uncertainty in the early phage of epidemic\n",
    "Start.T = 29\n",
    "\n",
    "\n",
    "## reporting delay distribution from infection to lab confirmation\n",
    "infectiontoreport <- function(t, tau){sum(convolve(onsettolabconf(1:today-t+tau),rev(incubation(1:today-t+tau)),type = c(\"open\")))}\n",
    "\n",
    "\n",
    "## pre-calculation for reporting delay to reduce the calculation time\n",
    "precal <- matrix(0, nrow=(max(dt.backproj$t)-Start.T+2+1), ncol=(max(dt.backproj$t)-1))\n",
    "for (m in (Start.T-2):max(dt.backproj$t)){\n",
    "    for (n in 1:m-1){precal[m-Start.T+2+1,n] <- infectiontoreport(m,n)}}\n",
    "\n",
    "delay_precalculation <- function(t){sum(convolve(onsettolabconf(1:(today-t)),rev(incubation(1:(today-t))),type = c(\"open\")))}\n",
    "\n",
    "dt.backproj %<>% rowwise %>%\n",
    "mutate(imported_delay = imported/delay_precalculation(t),\n",
    "       domestic_delay = domestic/delay_precalculation(t)) %>% mutate(total=imported_delay+domestic_delay)"
   ]
  },
  {
   "cell_type": "code",
   "execution_count": 49,
   "metadata": {},
   "outputs": [],
   "source": [
    "## estimating Rt\n",
    "est.t <- list()\n",
    "est.CI <- list()\n",
    "\n",
    "for (TT in Start.T:max(dt.backproj$t)){  \n",
    "    \n",
    "    dt.backproj %>% filter(t <= TT) -> dt.backproj.T\n",
    "    \n",
    "    llk <- function(param){\n",
    " \n",
    "    llk <- 0; Cs <- 0  \n",
    "    t=TT; R = param\n",
    "        \n",
    "    Css <- rep(0, t)    \n",
    "        \n",
    "    for (tau in 1:t-1){Css[tau] = (dt.backproj.T$total[t-tau+1])*generation(tau)/precal[t-Start.T+3,tau]}\n",
    "        \n",
    "    Cs = sum(Css)*R \n",
    "    Cs[Cs<=0] <- 1e-5\n",
    "    \n",
    "    return(-(-Cs+dt.backproj.T$domestic_delay[t+1]*log(Cs)-lgamma(dt.backproj.T$domestic_delay[t+1]+1)))}  \n",
    "\n",
    "param0 = c(0.7)\n",
    "opt_est <- optim(param0, fn=llk, method=c(\"L-BFGS-B\"), lower=c(0), control=list(maxit=10000))\n",
    "opt_est$par -> est.t[[TT]]\n",
    "       \n",
    "\n",
    "## 95% confidence intervals using the profile likelihood\n",
    "ci_pro <- matrix(NA, ncol=2, nrow=1)\n",
    "   \n",
    "CI <- function(par_CI){return(2*(-llk(par_CI)+llk(opt_est$value)))}\n",
    "\n",
    "    par_CI <- seq(0, 10, by = 0.01)\n",
    "    \n",
    "    logLik <- sapply(par_CI, FUN = CI)\n",
    "    as.data.frame(par_CI) -> par_CI; as.data.frame(logLik) -> logLik\n",
    "\n",
    "\n",
    "    cbind(par_CI, logLik) -> data_CI\n",
    "\n",
    "    data_CI$logLik[data_CI$logLik<(max(data_CI$logLik)-3.84)] <- NA\n",
    "    data_CI %<>% na.omit()\n",
    "\n",
    "    min(data_CI$par_CI) -> ci_pro[1,1]\n",
    "    max(data_CI$par_CI) -> ci_pro[1,2]\n",
    "    \n",
    "    as.data.frame(ci_pro) -> ci_pro\n",
    "    colnames(ci_pro) <- c(\"lower\",\"upper\")    \n",
    "    ci_pro -> est.CI[[TT]]\n",
    "}\n",
    "\n",
    "matrix(unlist(est.t),ncol=1,byrow=T) -> est.t\n",
    "matrix(unlist(est.CI),ncol=2,byrow=T) -> est.CI\n",
    "\n",
    "cbind(est.t, est.CI) -> est"
   ]
  },
  {
   "cell_type": "markdown",
   "metadata": {},
   "source": [
    "## Figures for the estimated Rt"
   ]
  },
  {
   "cell_type": "code",
   "execution_count": 50,
   "metadata": {},
   "outputs": [],
   "source": [
    "est %>% as.data.frame() %>% mutate(t = Start.T:max(dt.backproj$t)) -> result\n",
    "merge(dt.backproj, result, by='t', all.x=TRUE) -> result\n",
    "colnames(result) <- c(\"t\",\"onset\",\"imported\",\"domestic\",\"total\",\"imported_delay\",\"domestic_delay\",\"Rt\",\"lower\",\"upper\")\n",
    "\n",
    "result %>% filter(onset<=as.Date(datestar-(17))) -> result_withcut\n",
    "\n",
    "result_withcut %>% dplyr::select(onset, domestic, imported) %>% gather(onset) -> figure_data\n",
    "result_withcut %>% dplyr::select(onset) -> TIME\n",
    "rbind(TIME, TIME) -> TIME\n",
    "cbind(figure_data, TIME) -> figure_data\n",
    "colnames(figure_data) <- c(\"subject\",\"value\",\"onset\")"
   ]
  },
  {
   "cell_type": "code",
   "execution_count": 51,
   "metadata": {},
   "outputs": [
    {
     "data": {
      "image/png": "iVBORw0KGgoAAAANSUhEUgAAA0gAAAJYCAMAAABvmDbGAAAAQlBMVEUAAAATgKEzMzNNTU1Z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\nAAAASUVORK5CYII=",
      "text/plain": [
       "plot without title"
      ]
     },
     "metadata": {
      "image/png": {
       "height": 300,
       "width": 420
      },
      "text/plain": {
       "height": 300,
       "width": 420
      }
     },
     "output_type": "display_data"
    }
   ],
   "source": [
    "options(repr.plot.width=7,repr.plot.height=5)\n",
    "\n",
    "scaling_parameter=max(result_withcut$total)/max(result_withcut$upper[!is.na(result_withcut$upper)])\n",
    "range = c(as.Date(\"2020-02-01\"), (datestar-17))\n",
    "adj = 0.8\n",
    "options(warn=-1)\n",
    "\n",
    "figure_data %>% \n",
    "    ggplot() + \n",
    "    geom_bar(aes(x=onset, y=value, fill=subject, group=subject),stat='identity', width=0.7) +\n",
    "    scale_fill_manual(values=c(\"#FAAB18\",\"gray35\")) +\n",
    "    geom_line(data=result[!is.na(result$Rt),],aes(x=onset,y=Rt*scaling_parameter*adj),color=\"#1380A1\",size=1) +\n",
    "    geom_ribbon(data=result,aes(ymax=result$upper*scaling_parameter*adj, ymin=result$lower*scaling_parameter*adj, x=onset), \n",
    "                fill=\"#1380A1\", alpha = 0.4) +\n",
    "    ggtitle(\"Entire Japan\") +\n",
    "    labs(x=\"\\nDate of infection\", y=\"Incidence\\n\") +\n",
    "    theme(text=element_text(size=12, family=\"sans\",color=\"black\"),\n",
    "          axis.text=element_text(size=10, family=\"sans\",color=\"black\"),\n",
    "          panel.grid.major=element_blank(), panel.grid.minor = element_blank(),\n",
    "         legend.position=\"none\") +\n",
    "    scale_x_date(date_labels=\"%m/%d\",date_breaks=\"10 day\", limits=range, expand=c(0, 0)) +\n",
    "    scale_y_continuous(limit=c(0,640), expand = c(0, 0),\n",
    "                       sec.axis = sec_axis(~./(scaling_parameter*adj), breaks=c(0,2,4,6,8,10), name=\"Effective reproduction number\\n\")) +\n",
    "    geom_hline(yintercept=1*scaling_parameter, linetype=\"dashed\", color = \"#1380A1\", size =0.7)"
   ]
  },
  {
   "cell_type": "markdown",
   "metadata": {},
   "source": [
    "## Estimating Rt excluding the cases with unknown illness onset date"
   ]
  },
  {
   "cell_type": "code",
   "execution_count": 33,
   "metadata": {},
   "outputs": [],
   "source": [
    "entire_Japan %>% rename(domestic = domestic_org, imported = imported_org) -> df_onset_wo\n",
    "\n",
    "## adding extra 10 days for the stability of back-projection procedure\n",
    "temp_lastdays <- matrix(NA, ncol=1, nrow=10)\n",
    "temp_lastdays %<>% as.data.frame() %>% mutate(onset=as.Date((max(df_onset_wo$onset)+1):(max(df_onset_wo$onset)+10)),\n",
    "                                              domestic=0, imported=0, total=0) %>% dplyr::select(-V1)\n",
    "rbind(df_onset_wo, temp_lastdays) -> df_onset_wo\n",
    "df_onset_wo %<>% mutate(time_onset = 1:nrow(df_onset_wo))\n",
    "\n",
    "\n",
    "## incubation period\n",
    "K = nrow(df_onset_wo)\n",
    "incubation_probability = plnorm(1:K, inc_fit$meanlog, inc_fit$sdlog) - plnorm(1:K-1, inc_fit$meanlog, inc_fit$sdlog)\n",
    "inc_pmf = c(0,incubation_probability[1:21])\n",
    "\n",
    "\n",
    "## back-projecton of imported cases\n",
    "sts = new(\"sts\", epoch=df_onset_wo$time_onset, observed=df_onset_wo$imported)\n",
    "bpnp.control = list(k = 2, eps = rep(1e-4,2), iter.max=rep(1000,2), \n",
    "                    Tmark = nrow(sts), B = -1, alpha = 0.01, verbose = FALSE, lambda0 = NULL, eq3a.method = c(\"R\",\"C\"))\n",
    "sts_bp = backprojNP(sts, incu.pmf=inc_pmf, control=modifyList(bpnp.control,list(eq3a.method=\"C\")))\n",
    "df_onset_wo$imported_backproj = upperbound(sts_bp)\n",
    "\n",
    "\n",
    "## back-projecton of domestic cases\n",
    "sts = new(\"sts\", epoch=df_onset_wo$time_onset, observed=df_onset_wo$domestic)\n",
    "bpnp.control = list(k = 2, eps = rep(1e-4,2), iter.max=rep(1000,2), \n",
    "                    Tmark = nrow(sts), B = -1, alpha = 0.01, verbose = FALSE, lambda0 = NULL, \n",
    "                    eq3a.method = c(\"R\",\"C\"))\n",
    "sts_bp = backprojNP(sts, incu.pmf=inc_pmf, control=modifyList(bpnp.control,list(eq3a.method=\"C\")))\n",
    "df_onset_wo$domestic_backproj = upperbound(sts_bp)\n",
    "\n",
    "\n",
    "## normalizing the back-projected cases\n",
    "df_onset_wo$imported_backproj[df_onset_wo$imported_backproj<=0.01] <- 0\n",
    "df_onset_wo$domestic_backproj[df_onset_wo$domestic_backproj<=0.01] <- 0\n",
    "\n",
    "df_onset_wo %>% mutate(imported_normal = imported_backproj/sum(imported_backproj)*sum(imported),\n",
    "                       domestic_normal = domestic_backproj/sum(domestic_backproj)*sum(domestic),\n",
    "                       total = imported_normal+domestic_normal,\n",
    "                       time_onset=0:(nrow(df_onset_wo)-1)) %>%\n",
    "dplyr::select(time_onset, onset, imported_normal, domestic_normal, total) %>% \n",
    "rename(t = time_onset, imported=imported_normal, domestic = domestic_normal) %>% filter(onset <= (datestar-1))-> dt.backproj"
   ]
  },
  {
   "cell_type": "code",
   "execution_count": 34,
   "metadata": {},
   "outputs": [],
   "source": [
    "today = as.numeric(datestar-as.Date(min(dt.backproj$onset)))\n",
    "\n",
    "## start estimation from 1 Feb 2020, as there is a huge uncertainty in the early phage of epidemic\n",
    "Start.T = 29\n",
    "\n",
    "\n",
    "## reporting delay distribution from infection to lab confirmation\n",
    "infectiontoreport <- function(t, tau){sum(convolve(onsettolabconf(1:today-t+tau),rev(incubation(1:today-t+tau)),type = c(\"open\")))}\n",
    "\n",
    "\n",
    "## pre-calculation for reporting delay to reduce the calculation time\n",
    "precal <- matrix(0, nrow=(max(dt.backproj$t)-Start.T+2+1), ncol=(max(dt.backproj$t)-1))\n",
    "for (m in (Start.T-2):max(dt.backproj$t)){\n",
    "    for (n in 1:m-1){precal[m-Start.T+2+1,n] <- infectiontoreport(m,n)}}\n",
    "\n",
    "delay_precalculation <- function(t){sum(convolve(onsettolabconf(1:(today-t)),rev(incubation(1:(today-t))),type = c(\"open\")))}\n",
    "\n",
    "dt.backproj %<>% rowwise %>%\n",
    "mutate(imported_delay = imported/delay_precalculation(t),\n",
    "       domestic_delay = domestic/delay_precalculation(t)) %>% mutate(total=imported_delay+domestic_delay)"
   ]
  },
  {
   "cell_type": "code",
   "execution_count": 35,
   "metadata": {},
   "outputs": [],
   "source": [
    "## estimating Rt\n",
    "est.t <- list()\n",
    "est.CI <- list()\n",
    "\n",
    "for (TT in Start.T:max(dt.backproj$t)){  \n",
    "    \n",
    "    dt.backproj %>% filter(t <= TT) -> dt.backproj.T\n",
    "    \n",
    "    llk <- function(param){\n",
    " \n",
    "    llk <- 0; Cs <- 0  \n",
    "    t=TT; R = param\n",
    "        \n",
    "    Css <- rep(0, t)    \n",
    "        \n",
    "    for (tau in 1:t-1){Css[tau] = (dt.backproj.T$total[t-tau+1])*generation(tau)/precal[t-Start.T+3,tau]}\n",
    "        \n",
    "    Cs = sum(Css)*R \n",
    "    Cs[Cs<=0] <- 1e-5\n",
    "    \n",
    "    return(-(-Cs+dt.backproj.T$domestic_delay[t+1]*log(Cs)-lgamma(dt.backproj.T$domestic_delay[t+1]+1)))}  \n",
    "\n",
    "param0 = c(0.7)\n",
    "opt_est <- optim(param0, fn=llk, method=c(\"L-BFGS-B\"), lower=c(0), control=list(maxit=10000))\n",
    "opt_est$par -> est.t[[TT]]\n",
    "       \n",
    "\n",
    "## 95% confidence intervals using the profile likelihood\n",
    "ci_pro <- matrix(NA, ncol=2, nrow=1)\n",
    "   \n",
    "CI <- function(par_CI){return(2*(-llk(par_CI)+llk(opt_est$value)))}\n",
    "\n",
    "    par_CI <- seq(0, 10, by = 0.01)\n",
    "    \n",
    "    logLik <- sapply(par_CI, FUN = CI)\n",
    "    as.data.frame(par_CI) -> par_CI; as.data.frame(logLik) -> logLik\n",
    "\n",
    "\n",
    "    cbind(par_CI, logLik) -> data_CI\n",
    "\n",
    "    data_CI$logLik[data_CI$logLik<(max(data_CI$logLik)-3.84)] <- NA\n",
    "    data_CI %<>% na.omit()\n",
    "\n",
    "    min(data_CI$par_CI) -> ci_pro[1,1]\n",
    "    max(data_CI$par_CI) -> ci_pro[1,2]\n",
    "    \n",
    "    as.data.frame(ci_pro) -> ci_pro\n",
    "    colnames(ci_pro) <- c(\"lower\",\"upper\")    \n",
    "    ci_pro -> est.CI[[TT]]\n",
    "}\n",
    "\n",
    "matrix(unlist(est.t),ncol=1,byrow=T) -> est.t\n",
    "matrix(unlist(est.CI),ncol=2,byrow=T) -> est.CI\n",
    "\n",
    "cbind(est.t, est.CI) -> est"
   ]
  },
  {
   "cell_type": "code",
   "execution_count": 36,
   "metadata": {},
   "outputs": [],
   "source": [
    "est %>% as.data.frame() %>% mutate(t = Start.T:max(dt.backproj$t)) -> result\n",
    "merge(dt.backproj, result, by='t', all.x=TRUE) -> result\n",
    "colnames(result) <- c(\"t\",\"onset\",\"imported\",\"domestic\",\"total\",\"imported_delay\",\"domestic_delay\",\"Rt\",\"lower\",\"upper\")\n",
    "\n",
    "result %>% filter(onset<=as.Date(datestar-(17))) -> result_withcut\n",
    "\n",
    "result_withcut %>% dplyr::select(onset, domestic, imported) %>% gather(onset) -> figure_data\n",
    "result_withcut %>% dplyr::select(onset) -> TIME\n",
    "rbind(TIME, TIME) -> TIME\n",
    "cbind(figure_data, TIME) -> figure_data\n",
    "colnames(figure_data) <- c(\"subject\",\"value\",\"onset\")"
   ]
  },
  {
   "cell_type": "code",
   "execution_count": 37,
   "metadata": {},
   "outputs": [
    {
     "data": {
      "image/png": "iVBORw0KGgoAAAANSUhEUgAAA0gAAAJYCAIAAADXJFGjAAAACXBIWXMAABJ0AAASdAHeZh94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\nQmCC",
      "image/png": "iVBORw0KGgoAAAANSUhEUgAAA0gAAAJYCAMAAABvmDbGAAAAQlBMVEUAAAATgKEzMzNNTU1Z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\n+D+UxGbbdUrxowAAAABJRU5ErkJggg==",
      "text/plain": [
       "plot without title"
      ]
     },
     "metadata": {
      "image/png": {
       "height": 300,
       "width": 420
      },
      "text/plain": {
       "height": 300,
       "width": 420
      }
     },
     "output_type": "display_data"
    }
   ],
   "source": [
    "scaling_parameter=max(result_withcut$total)/max(result_withcut$upper[!is.na(result_withcut$upper)])\n",
    "range = c(as.Date(\"2020-02-01\"), (datestar-17))\n",
    "options(warn=-1)\n",
    "\n",
    "figure_data %>% \n",
    "    ggplot() + \n",
    "    geom_bar(aes(x=onset, y=value, fill=subject, group=subject),stat='identity', width=0.7) +\n",
    "    scale_fill_manual(values=c(\"#FAAB18\",\"gray35\")) +\n",
    "    geom_line(data=result[!is.na(result$Rt),],aes(x=onset,y=Rt*scaling_parameter),color=\"#1380A1\",size=1) +\n",
    "    geom_ribbon(data=result,aes(ymax=result$upper*scaling_parameter, ymin=result$lower*scaling_parameter, x=onset), \n",
    "                fill=\"#1380A1\", alpha = 0.4) +\n",
    "    ggtitle(\"Entire Japan excluding unknown cases\") +\n",
    "    labs(x=\"\\nDate of infection\", y=\"Incidence\\n\") +\n",
    "    theme(text=element_text(size=12, family=\"sans\",color=\"black\"),\n",
    "          axis.text=element_text(size=10, family=\"sans\",color=\"black\"),\n",
    "          panel.grid.major=element_blank(), panel.grid.minor=element_blank(),\n",
    "         legend.position=\"none\") +\n",
    "    scale_x_date(date_labels=\"%m/%d\",date_breaks=\"10 day\", limits=range, expand=c(0, 0)) +\n",
    "    scale_y_continuous(limit=c(0,620), expand = c(0, 0),\n",
    "                       sec.axis=sec_axis(~./(scaling_parameter), breaks=c(0,2,4,6,8,10), name=\"Effective reproduction number\\n\")) +\n",
    "    geom_hline(yintercept=1*scaling_parameter, linetype=\"dashed\", color = \"#1380A1\", size =0.7)"
   ]
  },
  {
   "cell_type": "code",
   "execution_count": 16,
   "metadata": {},
   "outputs": [],
   "source": [
    "write.csv(result, '../results/rtmle.csv')\n",
    "write.csv(result_withcut, '../results/rtwcmle.csv')"
   ]
  },
  {
   "cell_type": "code",
   "execution_count": null,
   "metadata": {},
   "outputs": [],
   "source": []
  }
 ],
 "metadata": {
  "kernelspec": {
   "display_name": "R",
   "language": "R",
   "name": "ir"
  },
  "language_info": {
   "codemirror_mode": "r",
   "file_extension": ".r",
   "mimetype": "text/x-r-source",
   "name": "R",
   "pygments_lexer": "r",
   "version": "3.4.4"
  }
 },
 "nbformat": 4,
 "nbformat_minor": 4
}
