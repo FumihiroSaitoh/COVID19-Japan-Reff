{
 "cells": [
  {
   "cell_type": "code",
   "execution_count": 42,
   "metadata": {},
   "outputs": [
    {
     "data": {
      "text/html": [
       "'R version 3.6.2 (2019-12-12)'"
      ],
      "text/latex": [
       "'R version 3.6.2 (2019-12-12)'"
      ],
      "text/markdown": [
       "'R version 3.6.2 (2019-12-12)'"
      ],
      "text/plain": [
       "[1] \"R version 3.6.2 (2019-12-12)\""
      ]
     },
     "metadata": {},
     "output_type": "display_data"
    }
   ],
   "source": [
    "libraries = c(\"dplyr\",\"magrittr\",\"tidyr\",\"ggplot2\",\"readxl\",\"RColorBrewer\",\"zoo\",\"surveillance\")\n",
    "for(x in libraries) { library(x,character.only=TRUE,warn.conflicts=FALSE,quietly=TRUE) }\n",
    "\n",
    "'%&%' = function(x,y)paste0(x,y)\n",
    "\n",
    "theme_set(theme_bw())\n",
    "version$version.string"
   ]
  },
  {
   "cell_type": "markdown",
   "metadata": {},
   "source": [
    "## Revision note\n",
    "\n",
    "$\\circ$ typo in the function of generation interval (shape parameter) was corrected. (15 May 2020)\n",
    "\n",
    "$\\circ$ assuming the proportion of asymptomatic cases among all cases is constant, the asymptomatic cases were included in the estimation of $R_t$ including all cases with unknown illness onset date. (16 May 2020)"
   ]
  },
  {
   "cell_type": "markdown",
   "metadata": {},
   "source": [
    "## Data\n",
    "\n",
    "For the analysis, all confirmed COVID-19 cases who diagnosed in Japan were categorized into two types of case, imported case and domestic transmission case. The imported cases were defined as (i) those who have international travel history, (ii) who embarked on the “Diamond Princess” cruise ship as a passenger or member of disaster assistance team (i.e., DMAT or PMAT) within two weeks before the illness onset. \n",
    "\n",
    "For the estimation of $R_t$, the symptomatic confirmed cases in Japan with either or both the date of illness onset or the date of laboratory confirmation were used. Since the cases from the chartered flights have not involved in the domestic transmission dynamics in Japan, those cases were excluded in the analysis."
   ]
  },
  {
   "cell_type": "code",
   "execution_count": 43,
   "metadata": {},
   "outputs": [],
   "source": [
    "## The code was written by Sung-mok Jung\n",
    "\n",
    "## load the data\n",
    "datestar = as.Date(\"2020-05-10\")\n",
    "read.csv(\"../data/JapaneseDataCOVID19 (\"%&%format(datestar,\"%y%m%d\")%&%\").csv\") -> master_df \n",
    "colnames(master_df) <- c(\"type\",\"onset\", \"labconf\", \"reported\", \"asym\")\n",
    "master_df %<>% mutate(reported = as.Date(reported), labconf = as.Date(labconf), onset = as.Date(onset))\n",
    "\n",
    "\n",
    "## data for cases with the illness onset\n",
    "master_df %>% filter(!is.na(onset)) -> onset_Japan\n",
    "onset_Japan %>% group_by(onset) %>% count(type) %>% spread(type, n) %>% as.data.frame() -> master_dff\n",
    "master_dff[is.na(master_dff)] <- 0 \n",
    "master_dff$onset <- as.Date(master_dff$onset)\n",
    "    \n",
    "as.numeric(datestar-1-min(master_dff$onset)) -> time.diff\n",
    "ttime <- as.data.frame(c(0:time.diff))\n",
    "colnames(ttime) <- c('t')\n",
    "ttime %<>% mutate(onset = as.Date(min(onset_Japan$onset))+t)\n",
    "    \n",
    "merge(ttime, master_dff, by='onset', all.x=TRUE) -> master_df_final\n",
    "master_df_final[is.na(master_df_final)] <- 0\n",
    "    \n",
    "master_df_final %<>% mutate(total = domestic+imported) %>% dplyr::select(onset, domestic, imported, total) %>%\n",
    "rename(domestic_org = domestic, imported_org = imported)\n",
    "master_df_final -> entire_Japan\n",
    "\n",
    "\n",
    "## data for cases with the unknown illness onset (excluding the asymptomatic cases)\n",
    "master_df %>% filter(is.na(onset)) %>% filter(!is.na(labconf)) -> unknown_df\n",
    "unknown_df %>% group_by(labconf) %>% count(type) %>% spread(type, n) %>% as.data.frame() -> unknown_dff\n",
    "unknown_dff[is.na(unknown_dff)] <- 0 \n",
    "unknown_dff$labconf <- as.Date(unknown_dff$labconf)\n",
    "    \n",
    "as.numeric(datestar-1-min(unknown_dff$labconf)) -> time.diff\n",
    "ttime <- as.data.frame(c(0:time.diff))\n",
    "colnames(ttime) <- c('t')\n",
    "ttime %<>% mutate(labconf = as.Date(min(unknown_df$labconf))+t)\n",
    "merge(ttime, unknown_dff, by='labconf', all.x=TRUE) -> unknown_df_final\n",
    "unknown_df_final[is.na(unknown_df_final)] <- 0\n",
    "    \n",
    "unknown_df_final %<>% mutate(total=domestic+imported) %>% dplyr::select(labconf, domestic, imported, total)\n",
    "\n",
    "temp_start <- matrix(NA, ncol=1, nrow=as.numeric(min(unknown_df_final$labconf)-as.Date(\"2020-01-03\")))\n",
    "temp_start %<>% as.data.frame() %>% mutate(labconf = as.Date(as.Date(\"2020-01-03\"):(min(unknown_df_final$labconf)-1)),\n",
    "                                           domestic = 0, imported = 0, total= 0) %>% dplyr::select(-V1)\n",
    "rbind(temp_start, unknown_df_final) -> unknown_Japan"
   ]
  },
  {
   "cell_type": "markdown",
   "metadata": {},
   "source": [
    "## Distributions\n",
    "\n",
    "### 1. Generation time\n",
    "In the present analysis, serial interval was assumed to be identical with generation time and the value of doubly interval censored serial interval was also adopted from the previous study (Nishiura et, al., 2020, IJID). The Weibull distribution was fitted to 28 known infector-infectee pairs (mean = 4.8  days, standard deviation = 2.3 days).\n",
    "\n",
    "\n",
    "### 2. Incubation period\n",
    "We accounted for right truncation and modeled and used a lognormal distribution with parameters adopted from an earlier study (Linton et, al., 2020, JCM), and the estimated mean and SD were 5.6 days and 3.9 days, respectively.\n",
    "\n",
    "\n",
    "### 3. Right-truncated reporting delay\n",
    "We fitted the right-truncated time delay distribution from the illness onset to reporting to the Weibull distribution. We define the likelihood as follows: \n",
    "\n",
    "$$\n",
    "L(\\theta|S_k,O_k,T)=\\prod_{k=1}^{K}\\frac{h(S_k-O_k  |  \\theta)}{H(T-O_k  |  \\theta)}\n",
    "$$\n",
    "\n",
    "where $S_k$ and $O_k$ are the reporting date and the date of illness onset of case $k$, respectively and $T$ is the latest calendar day of observation. $h(∙)$ and $H(∙)$ are the probability density function (PDF) and cumulative density function (CDF) of Weibull distribution and $\\theta$ is the parameters of the distribution (i.e., shape and scale). The likelihood is maximized to determine the best-fit parameters used in the estimation of the reproduction number ($R_t$).\n"
   ]
  },
  {
   "cell_type": "code",
   "execution_count": 44,
   "metadata": {},
   "outputs": [],
   "source": [
    "## generation interval (Nishiura, et al, 2020)\n",
    "gi_fit = list(shape=2.305, scale=5.452)\n",
    "generation <- function(t){pweibull(t, shape = gi_fit$shape, scale = gi_fit$scale) - \n",
    "                          pweibull(t-1, shape = gi_fit$shape, scale = gi_fit$scale)}\n",
    "\n",
    "\n",
    "## incubation period (Linton et al, 2020)\n",
    "inc_fit = list(meanlog=1.519, sdlog=0.615)\n",
    "incubation <- function(t){plnorm(t, inc_fit$meanlog, inc_fit$sdlog) - plnorm(t-1, inc_fit$meanlog, inc_fit$sdlog)}\n",
    "\n",
    "\n",
    "## right-truncated reporting delay from illness onset to laboratory confirmation (estimated values using the MHLW data)\n",
    "rep_fit = list(shape=1.741, scale=8.573)\n",
    "onsettolabconf <- function(t){pweibull(t,  shape=rep_fit$shape, scale=rep_fit$scale) - \n",
    "                              pweibull(t-1, shape=rep_fit$shape, scale=rep_fit$scale)}"
   ]
  },
  {
   "cell_type": "markdown",
   "metadata": {},
   "source": [
    "## Back-projection from the laboratory confirmation date to illness onset\n",
    "\n",
    "To estimate the effective reproduction number ($R_t$) by time of infection, we back-projected the cases by time of infection.\n",
    "\n",
    "First, since there are some reported cases with unknown illness onset date, we back-projected those cases from laboratory confirmation date to illness onset date, using the PDF of time delay from the illness onset to laboratory confirmation. $R$ package ‘$surveillance$’ was used for the back-projection and within the package, the non-parametric back-projection algorithm based on Expectation-Maximization-Smoothing (EMS) algorithm was conducted."
   ]
  },
  {
   "cell_type": "code",
   "execution_count": 45,
   "metadata": {
    "scrolled": true
   },
   "outputs": [],
   "source": [
    "## adding extra 10 days for the stability of back-projection procedure\n",
    "temp_lastdays <- matrix(NA, ncol=1, nrow=10)\n",
    "temp_lastdays %<>% as.data.frame() %>% mutate(labconf=as.Date((max(unknown_Japan$labconf)+1):(max(unknown_Japan$labconf)+10)),\n",
    "                                              domestic=0, imported=0, total=0) %>% dplyr::select(-V1)\n",
    "rbind(unknown_Japan, temp_lastdays) -> unknown_Japan\n",
    "unknown_Japan %<>% mutate(time_onset = 1:nrow(unknown_Japan))\n",
    "\n",
    "\n",
    "## time delay from the illness onset to laboratory confirmation\n",
    "K = nrow(unknown_Japan)\n",
    "\n",
    "report_probability = pweibull(1:K, shape=rep_fit$shape, scale=rep_fit$scale) - pweibull(1:K-1, shape=rep_fit$shape, scale=rep_fit$scale)\n",
    "report_pmf = c(0,report_probability[1:21])\n",
    "\n",
    "\n",
    "## back-projecton of imported cases\n",
    "sts = new(\"sts\", epoch=unknown_Japan$time_onset, observed=unknown_Japan$imported)\n",
    "bpnp.control = list(k = 2, eps = rep(1e-4,2), iter.max=rep(1000,2), \n",
    "                    Tmark = nrow(sts), B = -1, alpha = 0.01, verbose = FALSE, lambda0 = NULL, eq3a.method = c(\"R\",\"C\"))\n",
    "sts_bp = backprojNP(sts, incu.pmf=report_pmf, control=modifyList(bpnp.control,list(eq3a.method=\"C\")))\n",
    "unknown_Japan$imported_backproj = upperbound(sts_bp)\n",
    "\n",
    "\n",
    "## back-projecton of domestic cases\n",
    "sts = new(\"sts\", epoch=unknown_Japan$time_onset, observed=unknown_Japan$domestic)\n",
    "bpnp.control = list(k = 2, eps = rep(1e-4,2), iter.max=rep(1000,2), \n",
    "                    Tmark = nrow(sts), B = -1, alpha = 0.01, verbose = FALSE, lambda0 = NULL, \n",
    "                    eq3a.method = c(\"R\",\"C\"))\n",
    "sts_bp = backprojNP(sts, incu.pmf=report_pmf, control=modifyList(bpnp.control,list(eq3a.method=\"C\")))\n",
    "unknown_Japan$domestic_backproj = upperbound(sts_bp)\n",
    "\n",
    "\n",
    "## normalizing the back-projected cases\n",
    "unknown_Japan$imported_backproj[unknown_Japan$imported_backproj<=0.01] <- 0\n",
    "unknown_Japan$domestic_backproj[unknown_Japan$domestic_backproj<=0.01] <- 0\n",
    "\n",
    "unknown_Japan %>% mutate(imported_normal = imported_backproj/sum(imported_backproj)*sum(imported),\n",
    "                         domestic_normal = domestic_backproj/sum(domestic_backproj)*sum(domestic),\n",
    "                         total = imported_normal+domestic_normal,\n",
    "                         time_onset=0:(nrow(unknown_Japan)-1)) %>%\n",
    "dplyr::select(time_onset, labconf, imported_normal, domestic_normal, total) %>% \n",
    "rename(t = time_onset, onset = labconf, imported_backproj=imported_normal, domestic_backproj = domestic_normal) -> dt.backproj_onset"
   ]
  },
  {
   "cell_type": "code",
   "execution_count": 46,
   "metadata": {},
   "outputs": [],
   "source": [
    "## merge the back-projected data with cases whose date of illness onset was available\n",
    "merge(entire_Japan, dt.backproj_onset, by=c('onset'), all.y=TRUE) %>% \n",
    "mutate(domestic = domestic_org+domestic_backproj, imported = imported_org + imported_backproj,\n",
    "       total = domestic + imported) %>% dplyr::select(onset, domestic, imported ,total) -> df_onset\n",
    "df_onset[is.na(df_onset)] <- 0"
   ]
  },
  {
   "cell_type": "markdown",
   "metadata": {},
   "source": [
    "## Back-projection from the illness onset to time of infection\n",
    "\n",
    "The epidemic curve by date of illness onset was back-projected once again to the epidemic curve by the time of infection, using the PDF of incubation and the same back-projection method was used."
   ]
  },
  {
   "cell_type": "code",
   "execution_count": 47,
   "metadata": {
    "scrolled": true
   },
   "outputs": [],
   "source": [
    "## adding extra 10 days for the stability of back-projection procedure\n",
    "temp_lastdays <- matrix(NA, ncol=1, nrow=10)\n",
    "temp_lastdays %<>% as.data.frame() %>% mutate(onset=as.Date((max(df_onset$onset)+1):(max(df_onset$onset)+10)),\n",
    "                                              domestic=0, imported=0, total=0) %>% dplyr::select(-V1)\n",
    "rbind(df_onset, temp_lastdays) -> df_onset\n",
    "df_onset %<>% mutate(time_onset = 1:nrow(df_onset))\n",
    "\n",
    "\n",
    "## incubation period\n",
    "K = nrow(df_onset)\n",
    "incubation_probability = plnorm(1:K, inc_fit$meanlog, inc_fit$sdlog) - plnorm(1:K-1, inc_fit$meanlog, inc_fit$sdlog)\n",
    "inc_pmf = c(0,incubation_probability[1:21])\n",
    "\n",
    "\n",
    "## back-projecton of imported cases\n",
    "sts = new(\"sts\", epoch=df_onset$time_onset, observed=df_onset$imported)\n",
    "bpnp.control = list(k = 2, eps = rep(1e-4,2), iter.max=rep(1000,2), \n",
    "                    Tmark = nrow(sts), B = -1, alpha = 0.01, verbose = FALSE, lambda0 = NULL, eq3a.method = c(\"R\",\"C\"))\n",
    "sts_bp = backprojNP(sts, incu.pmf=inc_pmf, control=modifyList(bpnp.control,list(eq3a.method=\"C\")))\n",
    "df_onset$imported_backproj = upperbound(sts_bp)\n",
    "\n",
    "\n",
    "## back-projecton of domestic cases\n",
    "sts = new(\"sts\", epoch=df_onset$time_onset, observed=df_onset$domestic)\n",
    "bpnp.control = list(k = 2, eps = rep(1e-4,2), iter.max=rep(1000,2), \n",
    "                    Tmark = nrow(sts), B = -1, alpha = 0.01, verbose = FALSE, lambda0 = NULL, \n",
    "                    eq3a.method = c(\"R\",\"C\"))\n",
    "sts_bp = backprojNP(sts, incu.pmf=inc_pmf, control=modifyList(bpnp.control,list(eq3a.method=\"C\")))\n",
    "df_onset$domestic_backproj = upperbound(sts_bp)\n",
    "\n",
    "\n",
    "## normalizing the back-projected cases\n",
    "df_onset$imported_backproj[df_onset$imported_backproj<=0.01] <- 0\n",
    "df_onset$domestic_backproj[df_onset$domestic_backproj<=0.01] <- 0\n",
    "\n",
    "df_onset %>% mutate(imported_normal = imported_backproj/sum(imported_backproj)*sum(imported),\n",
    "                    domestic_normal = domestic_backproj/sum(domestic_backproj)*sum(domestic),\n",
    "                    total = imported_normal+domestic_normal,\n",
    "                    time_onset=0:(nrow(df_onset)-1)) %>%\n",
    "dplyr::select(time_onset, onset, imported_normal, domestic_normal, total) %>% \n",
    "rename(t = time_onset, imported=imported_normal, domestic = domestic_normal) %>% filter(onset <= (datestar-1))-> dt.backproj"
   ]
  },
  {
   "cell_type": "markdown",
   "metadata": {},
   "source": [
    "## Renewal equation\n",
    "\n",
    "Let $C_{domestic} (t)$ be the number of newly domestic infected cases (i.e., defined as confirmed COVID-19 cases who were infected within the Japan) on day $t$. Then, the expected number of domestic infected case is modelled as:\n",
    "$$\n",
    "E(C_{domestic} (t))=R_t \\sum_{\\tau=1}^{t-1}C_{total} (t-\\tau)g(\\tau)  \\frac{F(T-t)}{F(T-t+\\tau)},\n",
    "$$\n",
    "where $C_{total} (t)$ is the number of total infected COVID-19 cases (i.e., sum of domestic infections and imported infections) on day $t$, $R_t$ is the reproduction number on day $t$ and $g(∙)$ is the PDF of generation interval distribution. In addition, to account for right-censoring, i.e., cases that have not yet been reported but already infected, $F(∙)$, the CDF of time delay from infection to reporting (i.e., the convolution of PDF of incubation period and PDF of right-truncated reporting delay from the illness onset to reporting) was considered. \n",
    "\n",
    "To estimate parameters governing $C_{total} (t-\\tau)g(\\tau)\\frac{F(T-t)}{F(T-t+\\tau)}$, we assumed that $C_{domestic} (t)$ follows a Poisson distribution and we arrived at the likelihood function of the form:\n",
    "$$\n",
    "L(R_t;C_{domestic} (t))= \\prod_{t=1}^{T}\\frac{\\exp⁡(-E(C_{domestic} (t)) E(C_{domestic}  (t))^{C_{domestic}(t)}}{C_{domestic}  (t)!}.\n",
    "$$\n",
    "\n",
    "The 95% confidence intervals of each estimates were derived using the profile likelihood."
   ]
  },
  {
   "cell_type": "code",
   "execution_count": 48,
   "metadata": {},
   "outputs": [],
   "source": [
    "today = as.numeric(datestar-as.Date(min(dt.backproj$onset)))\n",
    "\n",
    "## start estimation from 1 Feb 2020, as there is a huge uncertainty in the early phage of epidemic\n",
    "Start.T = 29\n",
    "\n",
    "\n",
    "## reporting delay distribution from infection to lab confirmation\n",
    "infectiontoreport <- function(t, tau){sum(convolve(onsettolabconf(1:today-t+tau),rev(incubation(1:today-t+tau)),type = c(\"open\")))}\n",
    "\n",
    "\n",
    "## pre-calculation for reporting delay to reduce the calculation time\n",
    "precal <- matrix(0, nrow=(max(dt.backproj$t)-Start.T+2+1), ncol=(max(dt.backproj$t)-1))\n",
    "for (m in (Start.T-2):max(dt.backproj$t)){\n",
    "    for (n in 1:m-1){precal[m-Start.T+2+1,n] <- infectiontoreport(m,n)}}\n",
    "\n",
    "delay_precalculation <- function(t){sum(convolve(onsettolabconf(1:(today-t)),rev(incubation(1:(today-t))),type = c(\"open\")))}\n",
    "\n",
    "dt.backproj %<>% rowwise %>%\n",
    "mutate(imported_delay = imported/delay_precalculation(t),\n",
    "       domestic_delay = domestic/delay_precalculation(t)) %>% mutate(total=imported_delay+domestic_delay)"
   ]
  },
  {
   "cell_type": "code",
   "execution_count": 49,
   "metadata": {},
   "outputs": [],
   "source": [
    "## estimating Rt\n",
    "est.t <- list()\n",
    "est.CI <- list()\n",
    "\n",
    "for (TT in Start.T:max(dt.backproj$t)){  \n",
    "    \n",
    "    dt.backproj %>% filter(t <= TT) -> dt.backproj.T\n",
    "    \n",
    "    llk <- function(param){\n",
    " \n",
    "    llk <- 0; Cs <- 0  \n",
    "    t=TT; R = param\n",
    "        \n",
    "    Css <- rep(0, t)    \n",
    "        \n",
    "    for (tau in 1:t-1){Css[tau] = (dt.backproj.T$total[t-tau+1])*generation(tau)/precal[t-Start.T+3,tau]}\n",
    "        \n",
    "    Cs = sum(Css)*R \n",
    "    Cs[Cs<=0] <- 1e-5\n",
    "    \n",
    "    return(-(-Cs+dt.backproj.T$domestic_delay[t+1]*log(Cs)-lgamma(dt.backproj.T$domestic_delay[t+1]+1)))}  \n",
    "\n",
    "param0 = c(0.7)\n",
    "opt_est <- optim(param0, fn=llk, method=c(\"L-BFGS-B\"), lower=c(0), control=list(maxit=10000))\n",
    "opt_est$par -> est.t[[TT]]\n",
    "       \n",
    "\n",
    "## 95% confidence intervals using the profile likelihood\n",
    "ci_pro <- matrix(NA, ncol=2, nrow=1)\n",
    "   \n",
    "CI <- function(par_CI){return(2*(-llk(par_CI)+llk(opt_est$value)))}\n",
    "\n",
    "    par_CI <- seq(0, 10, by = 0.01)\n",
    "    \n",
    "    logLik <- sapply(par_CI, FUN = CI)\n",
    "    as.data.frame(par_CI) -> par_CI; as.data.frame(logLik) -> logLik\n",
    "\n",
    "\n",
    "    cbind(par_CI, logLik) -> data_CI\n",
    "\n",
    "    data_CI$logLik[data_CI$logLik<(max(data_CI$logLik)-3.84)] <- NA\n",
    "    data_CI %<>% na.omit()\n",
    "\n",
    "    min(data_CI$par_CI) -> ci_pro[1,1]\n",
    "    max(data_CI$par_CI) -> ci_pro[1,2]\n",
    "    \n",
    "    as.data.frame(ci_pro) -> ci_pro\n",
    "    colnames(ci_pro) <- c(\"lower\",\"upper\")    \n",
    "    ci_pro -> est.CI[[TT]]\n",
    "}\n",
    "\n",
    "matrix(unlist(est.t),ncol=1,byrow=T) -> est.t\n",
    "matrix(unlist(est.CI),ncol=2,byrow=T) -> est.CI\n",
    "\n",
    "cbind(est.t, est.CI) -> est"
   ]
  },
  {
   "cell_type": "markdown",
   "metadata": {},
   "source": [
    "## Figures for the estimated Rt"
   ]
  },
  {
   "cell_type": "code",
   "execution_count": 50,
   "metadata": {},
   "outputs": [],
   "source": [
    "est %>% as.data.frame() %>% mutate(t = Start.T:max(dt.backproj$t)) -> result\n",
    "merge(dt.backproj, result, by='t', all.x=TRUE) -> result\n",
    "colnames(result) <- c(\"t\",\"onset\",\"imported\",\"domestic\",\"total\",\"imported_delay\",\"domestic_delay\",\"Rt\",\"lower\",\"upper\")\n",
    "\n",
    "result %>% filter(onset<=as.Date(datestar-(17))) -> result_withcut\n",
    "\n",
    "result_withcut %>% dplyr::select(onset, domestic, imported) %>% gather(onset) -> figure_data\n",
    "result_withcut %>% dplyr::select(onset) -> TIME\n",
    "rbind(TIME, TIME) -> TIME\n",
    "cbind(figure_data, TIME) -> figure_data\n",
    "colnames(figure_data) <- c(\"subject\",\"value\",\"onset\")"
   ]
  },
  {
   "cell_type": "code",
   "execution_count": 51,
   "metadata": {},
   "outputs": [
    {
     "data": {
      "image/png": "[encoded data removed]",
      "text/plain": [
       "plot without title"
      ]
     },
     "metadata": {
      "image/png": {
       "height": 300,
       "width": 420
      },
      "text/plain": {
       "height": 300,
       "width": 420
      }
     },
     "output_type": "display_data"
    }
   ],
   "source": [
    "options(repr.plot.width=7,repr.plot.height=5)\n",
    "\n",
    "scaling_parameter=max(result_withcut$total)/max(result_withcut$upper[!is.na(result_withcut$upper)])\n",
    "range = c(as.Date(\"2020-02-01\"), (datestar-17))\n",
    "adj = 0.8\n",
    "options(warn=-1)\n",
    "\n",
    "figure_data %>% \n",
    "    ggplot() + \n",
    "    geom_bar(aes(x=onset, y=value, fill=subject, group=subject),stat='identity', width=0.7) +\n",
    "    scale_fill_manual(values=c(\"#FAAB18\",\"gray35\")) +\n",
    "    geom_line(data=result[!is.na(result$Rt),],aes(x=onset,y=Rt*scaling_parameter*adj),color=\"#1380A1\",size=1) +\n",
    "    geom_ribbon(data=result,aes(ymax=result$upper*scaling_parameter*adj, ymin=result$lower*scaling_parameter*adj, x=onset), \n",
    "                fill=\"#1380A1\", alpha = 0.4) +\n",
    "    ggtitle(\"Entire Japan\") +\n",
    "    labs(x=\"\\nDate of infection\", y=\"Incidence\\n\") +\n",
    "    theme(text=element_text(size=12, family=\"sans\",color=\"black\"),\n",
    "          axis.text=element_text(size=10, family=\"sans\",color=\"black\"),\n",
    "          panel.grid.major=element_blank(), panel.grid.minor = element_blank(),\n",
    "         legend.position=\"none\") +\n",
    "    scale_x_date(date_labels=\"%m/%d\",date_breaks=\"10 day\", limits=range, expand=c(0, 0)) +\n",
    "    scale_y_continuous(limit=c(0,640), expand = c(0, 0),\n",
    "                       sec.axis = sec_axis(~./(scaling_parameter*adj), breaks=c(0,2,4,6,8,10), name=\"Effective reproduction number\\n\")) +\n",
    "    geom_hline(yintercept=1*scaling_parameter, linetype=\"dashed\", color = \"#1380A1\", size =0.7)"
   ]
  },
  {
   "cell_type": "markdown",
   "metadata": {},
   "source": [
    "## Estimating Rt excluding the cases with unknown illness onset date"
   ]
  },
  {
   "cell_type": "code",
   "execution_count": 33,
   "metadata": {},
   "outputs": [],
   "source": [
    "entire_Japan %>% rename(domestic = domestic_org, imported = imported_org) -> df_onset_wo\n",
    "\n",
    "## adding extra 10 days for the stability of back-projection procedure\n",
    "temp_lastdays <- matrix(NA, ncol=1, nrow=10)\n",
    "temp_lastdays %<>% as.data.frame() %>% mutate(onset=as.Date((max(df_onset_wo$onset)+1):(max(df_onset_wo$onset)+10)),\n",
    "                                              domestic=0, imported=0, total=0) %>% dplyr::select(-V1)\n",
    "rbind(df_onset_wo, temp_lastdays) -> df_onset_wo\n",
    "df_onset_wo %<>% mutate(time_onset = 1:nrow(df_onset_wo))\n",
    "\n",
    "\n",
    "## incubation period\n",
    "K = nrow(df_onset_wo)\n",
    "incubation_probability = plnorm(1:K, inc_fit$meanlog, inc_fit$sdlog) - plnorm(1:K-1, inc_fit$meanlog, inc_fit$sdlog)\n",
    "inc_pmf = c(0,incubation_probability[1:21])\n",
    "\n",
    "\n",
    "## back-projecton of imported cases\n",
    "sts = new(\"sts\", epoch=df_onset_wo$time_onset, observed=df_onset_wo$imported)\n",
    "bpnp.control = list(k = 2, eps = rep(1e-4,2), iter.max=rep(1000,2), \n",
    "                    Tmark = nrow(sts), B = -1, alpha = 0.01, verbose = FALSE, lambda0 = NULL, eq3a.method = c(\"R\",\"C\"))\n",
    "sts_bp = backprojNP(sts, incu.pmf=inc_pmf, control=modifyList(bpnp.control,list(eq3a.method=\"C\")))\n",
    "df_onset_wo$imported_backproj = upperbound(sts_bp)\n",
    "\n",
    "\n",
    "## back-projecton of domestic cases\n",
    "sts = new(\"sts\", epoch=df_onset_wo$time_onset, observed=df_onset_wo$domestic)\n",
    "bpnp.control = list(k = 2, eps = rep(1e-4,2), iter.max=rep(1000,2), \n",
    "                    Tmark = nrow(sts), B = -1, alpha = 0.01, verbose = FALSE, lambda0 = NULL, \n",
    "                    eq3a.method = c(\"R\",\"C\"))\n",
    "sts_bp = backprojNP(sts, incu.pmf=inc_pmf, control=modifyList(bpnp.control,list(eq3a.method=\"C\")))\n",
    "df_onset_wo$domestic_backproj = upperbound(sts_bp)\n",
    "\n",
    "\n",
    "## normalizing the back-projected cases\n",
    "df_onset_wo$imported_backproj[df_onset_wo$imported_backproj<=0.01] <- 0\n",
    "df_onset_wo$domestic_backproj[df_onset_wo$domestic_backproj<=0.01] <- 0\n",
    "\n",
    "df_onset_wo %>% mutate(imported_normal = imported_backproj/sum(imported_backproj)*sum(imported),\n",
    "                       domestic_normal = domestic_backproj/sum(domestic_backproj)*sum(domestic),\n",
    "                       total = imported_normal+domestic_normal,\n",
    "                       time_onset=0:(nrow(df_onset_wo)-1)) %>%\n",
    "dplyr::select(time_onset, onset, imported_normal, domestic_normal, total) %>% \n",
    "rename(t = time_onset, imported=imported_normal, domestic = domestic_normal) %>% filter(onset <= (datestar-1))-> dt.backproj"
   ]
  },
  {
   "cell_type": "code",
   "execution_count": 34,
   "metadata": {},
   "outputs": [],
   "source": [
    "today = as.numeric(datestar-as.Date(min(dt.backproj$onset)))\n",
    "\n",
    "## start estimation from 1 Feb 2020, as there is a huge uncertainty in the early phage of epidemic\n",
    "Start.T = 29\n",
    "\n",
    "\n",
    "## reporting delay distribution from infection to lab confirmation\n",
    "infectiontoreport <- function(t, tau){sum(convolve(onsettolabconf(1:today-t+tau),rev(incubation(1:today-t+tau)),type = c(\"open\")))}\n",
    "\n",
    "\n",
    "## pre-calculation for reporting delay to reduce the calculation time\n",
    "precal <- matrix(0, nrow=(max(dt.backproj$t)-Start.T+2+1), ncol=(max(dt.backproj$t)-1))\n",
    "for (m in (Start.T-2):max(dt.backproj$t)){\n",
    "    for (n in 1:m-1){precal[m-Start.T+2+1,n] <- infectiontoreport(m,n)}}\n",
    "\n",
    "delay_precalculation <- function(t){sum(convolve(onsettolabconf(1:(today-t)),rev(incubation(1:(today-t))),type = c(\"open\")))}\n",
    "\n",
    "dt.backproj %<>% rowwise %>%\n",
    "mutate(imported_delay = imported/delay_precalculation(t),\n",
    "       domestic_delay = domestic/delay_precalculation(t)) %>% mutate(total=imported_delay+domestic_delay)"
   ]
  },
  {
   "cell_type": "code",
   "execution_count": 35,
   "metadata": {},
   "outputs": [],
   "source": [
    "## estimating Rt\n",
    "est.t <- list()\n",
    "est.CI <- list()\n",
    "\n",
    "for (TT in Start.T:max(dt.backproj$t)){  \n",
    "    \n",
    "    dt.backproj %>% filter(t <= TT) -> dt.backproj.T\n",
    "    \n",
    "    llk <- function(param){\n",
    " \n",
    "    llk <- 0; Cs <- 0  \n",
    "    t=TT; R = param\n",
    "        \n",
    "    Css <- rep(0, t)    \n",
    "        \n",
    "    for (tau in 1:t-1){Css[tau] = (dt.backproj.T$total[t-tau+1])*generation(tau)/precal[t-Start.T+3,tau]}\n",
    "        \n",
    "    Cs = sum(Css)*R \n",
    "    Cs[Cs<=0] <- 1e-5\n",
    "    \n",
    "    return(-(-Cs+dt.backproj.T$domestic_delay[t+1]*log(Cs)-lgamma(dt.backproj.T$domestic_delay[t+1]+1)))}  \n",
    "\n",
    "param0 = c(0.7)\n",
    "opt_est <- optim(param0, fn=llk, method=c(\"L-BFGS-B\"), lower=c(0), control=list(maxit=10000))\n",
    "opt_est$par -> est.t[[TT]]\n",
    "       \n",
    "\n",
    "## 95% confidence intervals using the profile likelihood\n",
    "ci_pro <- matrix(NA, ncol=2, nrow=1)\n",
    "   \n",
    "CI <- function(par_CI){return(2*(-llk(par_CI)+llk(opt_est$value)))}\n",
    "\n",
    "    par_CI <- seq(0, 10, by = 0.01)\n",
    "    \n",
    "    logLik <- sapply(par_CI, FUN = CI)\n",
    "    as.data.frame(par_CI) -> par_CI; as.data.frame(logLik) -> logLik\n",
    "\n",
    "\n",
    "    cbind(par_CI, logLik) -> data_CI\n",
    "\n",
    "    data_CI$logLik[data_CI$logLik<(max(data_CI$logLik)-3.84)] <- NA\n",
    "    data_CI %<>% na.omit()\n",
    "\n",
    "    min(data_CI$par_CI) -> ci_pro[1,1]\n",
    "    max(data_CI$par_CI) -> ci_pro[1,2]\n",
    "    \n",
    "    as.data.frame(ci_pro) -> ci_pro\n",
    "    colnames(ci_pro) <- c(\"lower\",\"upper\")    \n",
    "    ci_pro -> est.CI[[TT]]\n",
    "}\n",
    "\n",
    "matrix(unlist(est.t),ncol=1,byrow=T) -> est.t\n",
    "matrix(unlist(est.CI),ncol=2,byrow=T) -> est.CI\n",
    "\n",
    "cbind(est.t, est.CI) -> est"
   ]
  },
  {
   "cell_type": "code",
   "execution_count": 36,
   "metadata": {},
   "outputs": [],
   "source": [
    "est %>% as.data.frame() %>% mutate(t = Start.T:max(dt.backproj$t)) -> result\n",
    "merge(dt.backproj, result, by='t', all.x=TRUE) -> result\n",
    "colnames(result) <- c(\"t\",\"onset\",\"imported\",\"domestic\",\"total\",\"imported_delay\",\"domestic_delay\",\"Rt\",\"lower\",\"upper\")\n",
    "\n",
    "result %>% filter(onset<=as.Date(datestar-(17))) -> result_withcut\n",
    "\n",
    "result_withcut %>% dplyr::select(onset, domestic, imported) %>% gather(onset) -> figure_data\n",
    "result_withcut %>% dplyr::select(onset) -> TIME\n",
    "rbind(TIME, TIME) -> TIME\n",
    "cbind(figure_data, TIME) -> figure_data\n",
    "colnames(figure_data) <- c(\"subject\",\"value\",\"onset\")"
   ]
  },
  {
   "cell_type": "code",
   "execution_count": 37,
   "metadata": {},
   "outputs": [
    {
     "data": {
      "image/png": "[encoded data removed]",
      "text/plain": [
       "plot without title"
      ]
     },
     "metadata": {
      "image/png": {
       "height": 300,
       "width": 420
      },
      "text/plain": {
       "height": 300,
       "width": 420
      }
     },
     "output_type": "display_data"
    }
   ],
   "source": [
    "scaling_parameter=max(result_withcut$total)/max(result_withcut$upper[!is.na(result_withcut$upper)])\n",
    "range = c(as.Date(\"2020-02-01\"), (datestar-17))\n",
    "options(warn=-1)\n",
    "\n",
    "figure_data %>% \n",
    "    ggplot() + \n",
    "    geom_bar(aes(x=onset, y=value, fill=subject, group=subject),stat='identity', width=0.7) +\n",
    "    scale_fill_manual(values=c(\"#FAAB18\",\"gray35\")) +\n",
    "    geom_line(data=result[!is.na(result$Rt),],aes(x=onset,y=Rt*scaling_parameter),color=\"#1380A1\",size=1) +\n",
    "    geom_ribbon(data=result,aes(ymax=result$upper*scaling_parameter, ymin=result$lower*scaling_parameter, x=onset), \n",
    "                fill=\"#1380A1\", alpha = 0.4) +\n",
    "    ggtitle(\"Entire Japan excluding unknown cases\") +\n",
    "    labs(x=\"\\nDate of infection\", y=\"Incidence\\n\") +\n",
    "    theme(text=element_text(size=12, family=\"sans\",color=\"black\"),\n",
    "          axis.text=element_text(size=10, family=\"sans\",color=\"black\"),\n",
    "          panel.grid.major=element_blank(), panel.grid.minor=element_blank(),\n",
    "         legend.position=\"none\") +\n",
    "    scale_x_date(date_labels=\"%m/%d\",date_breaks=\"10 day\", limits=range, expand=c(0, 0)) +\n",
    "    scale_y_continuous(limit=c(0,620), expand = c(0, 0),\n",
    "                       sec.axis=sec_axis(~./(scaling_parameter), breaks=c(0,2,4,6,8,10), name=\"Effective reproduction number\\n\")) +\n",
    "    geom_hline(yintercept=1*scaling_parameter, linetype=\"dashed\", color = \"#1380A1\", size =0.7)"
   ]
  }
 ],
 "metadata": {
  "kernelspec": {
   "display_name": "R",
   "language": "R",
   "name": "ir"
  },
  "language_info": {
   "codemirror_mode": "r",
   "file_extension": ".r",
   "mimetype": "text/x-r-source",
   "name": "R",
   "pygments_lexer": "r",
   "version": "3.6.2"
  }
 },
 "nbformat": 4,
 "nbformat_minor": 4
}
